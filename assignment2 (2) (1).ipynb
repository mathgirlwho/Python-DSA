{
 "cells": [
  {
   "cell_type": "code",
   "execution_count": 1,
   "id": "4ca679a2-b025-403d-b2c6-7bd879e321f6",
   "metadata": {},
   "outputs": [],
   "source": [
    "def validate(expr):\n",
    "    \"\"\"\n",
    "    Checks if the given expression (in dictionary form) is valid.\n",
    "    A valid expression is either:\n",
    "    - A leaf node: {'value': int}, where 'value' is an integer.\n",
    "    - A non-leaf node: {'op': '+', '-', '*', 'arg1': dict, 'arg2': dict},\n",
    "      where 'op' is an operator and 'arg1' and 'arg2' are valid expressions.\n",
    "      \n",
    "    Args:\n",
    "        expr (dict): The expression to validate.\n",
    "\n",
    "    Returns:\n",
    "        bool: True if the expression is valid, False otherwise.\n",
    "    \"\"\"\n",
    "    # Base case: Check if it's a leaf node (only a value key)\n",
    "    if 'value' in expr and len(expr) == 1 and isinstance(expr['value'], int):\n",
    "        return True\n",
    "    # Recursive case: Check for operation with arg1 and arg2 being dictionaries\n",
    "    elif 'op' in expr and 'arg1' in expr and 'arg2' in expr:\n",
    "        if expr['op'] in {'+', '-', '*'}:\n",
    "            # Validate both arguments recursively\n",
    "            return validate(expr['arg1']) and validate(expr['arg2'])\n",
    "    # If none of the above, it's not valid\n",
    "    return False"
   ]
  },
  {
   "cell_type": "code",
   "execution_count": 2,
   "id": "95979a4c-775c-42cf-ae5d-66ef7c231673",
   "metadata": {},
   "outputs": [],
   "source": [
    "def evaluate(expr):\n",
    "    \"\"\"\n",
    "    Recursively evaluates the expression if it's valid.\n",
    "    If the expression is valid, it returns the calculated integer value of the expression.\n",
    "    If the expression is invalid, it returns None.\n",
    "\n",
    "    Args:\n",
    "        expr (dict): The expression to evaluate.\n",
    "\n",
    "    Returns:\n",
    "        int or None: The result of evaluating the expression, or None if the expression is invalid.\n",
    "    \"\"\"\n",
    "    if not validate(expr):\n",
    "        return None  # If the expression is not valid, return None\n",
    "    \n",
    "    # Base case: If it's a leaf node, return its value\n",
    "    if 'value' in expr:\n",
    "        return expr['value']\n",
    "    \n",
    "    # Recursive case: Apply the operation to the evaluated arguments\n",
    "    arg1_val = evaluate(expr['arg1'])\n",
    "    arg2_val = evaluate(expr['arg2'])\n",
    "    \n",
    "    if expr['op'] == '+':\n",
    "        return arg1_val + arg2_val\n",
    "    elif expr['op'] == '-':\n",
    "        return arg1_val - arg2_val\n",
    "    elif expr['op'] == '*':\n",
    "        return arg1_val * arg2_val"
   ]
  },
  {
   "cell_type": "code",
   "execution_count": 6,
   "id": "847a1554-6133-408b-a94b-43ec8443e2cd",
   "metadata": {},
   "outputs": [],
   "source": [
    "def display(expr):\n",
    "    \"\"\"\n",
    "    Recursively generates the string representation of the expression.\n",
    "    If the expression is valid, it returns a string representation.\n",
    "    For leaf nodes, it returns the integer as a string.\n",
    "    For non-leaf nodes, it encloses the operation in parentheses: (arg1 op arg2).\n",
    "\n",
    "    Args:\n",
    "        expr (dict): The expression to display.\n",
    "\n",
    "    Returns:\n",
    "        str or None: The string representation of the expression, or None if invalid.\n",
    "    \"\"\"\n",
    "    if not validate(expr):\n",
    "        return None  # If the expression is not valid, return None\n",
    "    \n",
    "    # Base case: If it's a leaf node, return the value as a string\n",
    "    if 'value' in expr:\n",
    "        return str(expr['value'])\n",
    "    \n",
    "    # Recursive case: Format the expression as '(arg1 op arg2)'\n",
    "    arg1_str = display(expr['arg1'])\n",
    "    arg2_str = display(expr['arg2'])\n",
    "    \n",
    "    return f\"({arg1_str}{expr['op']}{arg2_str})\""
   ]
  },
  {
   "cell_type": "code",
   "execution_count": 4,
   "id": "49b9be74-b4a5-4d87-957e-8b5b1d8612da",
   "metadata": {},
   "outputs": [],
   "source": [
    "expr1 = {'value': 99}  # Leaf node"
   ]
  },
  {
   "cell_type": "code",
   "execution_count": 5,
   "id": "8b1358cd-b719-4b0c-9119-5ac178e6bdbb",
   "metadata": {},
   "outputs": [
    {
     "name": "stdout",
     "output_type": "stream",
     "text": [
      "True\n"
     ]
    }
   ],
   "source": [
    "print(validate(expr1))"
   ]
  },
  {
   "cell_type": "code",
   "execution_count": 7,
   "id": "50f3678c-f744-4c86-bf02-0c723487222c",
   "metadata": {},
   "outputs": [
    {
     "name": "stdout",
     "output_type": "stream",
     "text": [
      "99\n"
     ]
    }
   ],
   "source": [
    "print(evaluate(expr1))"
   ]
  },
  {
   "cell_type": "code",
   "execution_count": 8,
   "id": "8685d505-81b9-47f5-99f5-1e8ccdf0aa22",
   "metadata": {},
   "outputs": [
    {
     "name": "stdout",
     "output_type": "stream",
     "text": [
      "99\n"
     ]
    }
   ],
   "source": [
    "print(display(expr1))"
   ]
  },
  {
   "cell_type": "code",
   "execution_count": 9,
   "id": "70e7d4c2-032c-4510-8262-075e5e7f2d39",
   "metadata": {},
   "outputs": [],
   "source": [
    "expr2 = {'op': '+', 'arg1': {'value': 7}, 'arg2': {'value': 8}}  # Simple addition"
   ]
  },
  {
   "cell_type": "code",
   "execution_count": 10,
   "id": "5e00fd0a-199d-4cc4-9bb6-ff5aa4af0ebd",
   "metadata": {},
   "outputs": [
    {
     "name": "stdout",
     "output_type": "stream",
     "text": [
      "True\n"
     ]
    }
   ],
   "source": [
    "print(validate(expr2))"
   ]
  },
  {
   "cell_type": "code",
   "execution_count": 11,
   "id": "51089bce-6b5b-4549-a364-7c017f044c23",
   "metadata": {},
   "outputs": [
    {
     "name": "stdout",
     "output_type": "stream",
     "text": [
      "15\n"
     ]
    }
   ],
   "source": [
    "print(evaluate(expr2))"
   ]
  },
  {
   "cell_type": "code",
   "execution_count": 12,
   "id": "a6c26d23-28e0-4c1f-8f4a-c4ac50ca5e2c",
   "metadata": {},
   "outputs": [
    {
     "name": "stdout",
     "output_type": "stream",
     "text": [
      "(7+8)\n"
     ]
    }
   ],
   "source": [
    "print(display(expr2))"
   ]
  },
  {
   "cell_type": "code",
   "execution_count": 13,
   "id": "1f0d9163-89b6-4f84-8e24-13987f075da3",
   "metadata": {},
   "outputs": [],
   "source": [
    "expr3 = {'op': '-', 'arg1': {'op': '+', 'arg1': {'value': 7}, 'arg2': {'value': 8}}, \n",
    "         'arg2': {'op': '*', 'arg1': {'value': 8}, 'arg2': {'value': 9}}}  # Nested expression"
   ]
  },
  {
   "cell_type": "code",
   "execution_count": 14,
   "id": "50f9c786-28e5-49c0-ad91-02ee9f950a3d",
   "metadata": {},
   "outputs": [
    {
     "name": "stdout",
     "output_type": "stream",
     "text": [
      "True\n"
     ]
    }
   ],
   "source": [
    "print(validate(expr3))"
   ]
  },
  {
   "cell_type": "code",
   "execution_count": 15,
   "id": "3dfeb705-9223-4459-998d-9b3ddfc76b63",
   "metadata": {},
   "outputs": [
    {
     "name": "stdout",
     "output_type": "stream",
     "text": [
      "-57\n"
     ]
    }
   ],
   "source": [
    "print(evaluate(expr3))"
   ]
  },
  {
   "cell_type": "code",
   "execution_count": 16,
   "id": "c3ce47ca-6aa6-429c-9a81-4ded007dfe57",
   "metadata": {},
   "outputs": [
    {
     "name": "stdout",
     "output_type": "stream",
     "text": [
      "((7+8)-(8*9))\n"
     ]
    }
   ],
   "source": [
    "print(display(expr3))"
   ]
  },
  {
   "cell_type": "code",
   "execution_count": 17,
   "id": "cec69585-4a54-4346-880e-67d51f4723a8",
   "metadata": {},
   "outputs": [
    {
     "name": "stdout",
     "output_type": "stream",
     "text": [
      "(5*6)\n"
     ]
    }
   ],
   "source": [
    "expr4 = {'op': '*', 'arg1': {'value': 5}, 'arg2': {'value': 6}}\n",
    "print(display(expr4))  # Expected output: '(5*6)'\n"
   ]
  },
  {
   "cell_type": "code",
   "execution_count": 18,
   "id": "b6b48240-384a-4fc5-90cf-870257bf9333",
   "metadata": {},
   "outputs": [
    {
     "name": "stdout",
     "output_type": "stream",
     "text": [
      "30\n"
     ]
    }
   ],
   "source": [
    "print(evaluate(expr4))"
   ]
  },
  {
   "cell_type": "code",
   "execution_count": 19,
   "id": "ebc20c72-44a6-4987-9d93-2feb698995e6",
   "metadata": {},
   "outputs": [
    {
     "name": "stdout",
     "output_type": "stream",
     "text": [
      "True\n"
     ]
    }
   ],
   "source": [
    "print(validate(expr4))"
   ]
  },
  {
   "cell_type": "code",
   "execution_count": 20,
   "id": "e85b7607-fb5c-44c9-b06d-78ab711d6883",
   "metadata": {},
   "outputs": [
    {
     "name": "stdout",
     "output_type": "stream",
     "text": [
      "(10-(3+2))\n"
     ]
    }
   ],
   "source": [
    "expr5 = {'op': '-', 'arg1': {'value': 10}, 'arg2': {'op': '+', 'arg1': {'value': 3}, 'arg2': {'value': 2}}}\n",
    "print(display(expr5))  # Expected output: '(10-(3+2))'\n"
   ]
  },
  {
   "cell_type": "code",
   "execution_count": 21,
   "id": "debffd77-1756-4a59-b598-db1c37f1bf93",
   "metadata": {},
   "outputs": [
    {
     "name": "stdout",
     "output_type": "stream",
     "text": [
      "True\n"
     ]
    }
   ],
   "source": [
    "print(validate(expr5))"
   ]
  },
  {
   "cell_type": "code",
   "execution_count": 22,
   "id": "cb1bd222-dc88-43c2-b5db-704e2d77f170",
   "metadata": {},
   "outputs": [
    {
     "name": "stdout",
     "output_type": "stream",
     "text": [
      "5\n"
     ]
    }
   ],
   "source": [
    "print(evaluate(expr5))"
   ]
  },
  {
   "cell_type": "code",
   "execution_count": 23,
   "id": "e010d630-4c5e-435e-b5d1-3652171212fc",
   "metadata": {},
   "outputs": [
    {
     "name": "stdout",
     "output_type": "stream",
     "text": [
      "((4*5)+(12-7))\n"
     ]
    }
   ],
   "source": [
    "expr6 = {'op': '+', 'arg1': {'op': '*', 'arg1': {'value': 4}, 'arg2': {'value': 5}}, \n",
    "         'arg2': {'op': '-', 'arg1': {'value': 12}, 'arg2': {'value': 7}}}\n",
    "print(display(expr6))  # Expected output: '((4*5)+(12-7))'\n"
   ]
  },
  {
   "cell_type": "code",
   "execution_count": 24,
   "id": "ef3a857f-919d-4204-bdec-430bd6727d7a",
   "metadata": {},
   "outputs": [
    {
     "name": "stdout",
     "output_type": "stream",
     "text": [
      "True\n"
     ]
    }
   ],
   "source": [
    "print(validate(expr6))"
   ]
  },
  {
   "cell_type": "code",
   "execution_count": 25,
   "id": "1fe70e25-0cbc-4593-8437-37f0d7ff8c8b",
   "metadata": {},
   "outputs": [
    {
     "name": "stdout",
     "output_type": "stream",
     "text": [
      "25\n"
     ]
    }
   ],
   "source": [
    "print(evaluate(expr6))"
   ]
  },
  {
   "cell_type": "code",
   "execution_count": 26,
   "id": "0ca29dd9-1b7d-43e4-8084-7e484bee80e9",
   "metadata": {},
   "outputs": [
    {
     "name": "stdout",
     "output_type": "stream",
     "text": [
      "((1+2)*(3+4))\n"
     ]
    }
   ],
   "source": [
    "expr7 = {'op': '*', 'arg1': {'op': '+', 'arg1': {'value': 1}, 'arg2': {'value': 2}}, \n",
    "         'arg2': {'op': '+', 'arg1': {'value': 3}, 'arg2': {'value': 4}}}\n",
    "print(display(expr7))  # Expected output: '((1+2)*(3+4))'\n"
   ]
  },
  {
   "cell_type": "code",
   "execution_count": 27,
   "id": "60aa2440-e75c-42c4-be03-41311a9c2095",
   "metadata": {},
   "outputs": [
    {
     "name": "stdout",
     "output_type": "stream",
     "text": [
      "True\n"
     ]
    }
   ],
   "source": [
    "print(validate(expr7))"
   ]
  },
  {
   "cell_type": "code",
   "execution_count": 28,
   "id": "8f854e78-ce31-451e-9375-d26bad554d49",
   "metadata": {},
   "outputs": [
    {
     "name": "stdout",
     "output_type": "stream",
     "text": [
      "21\n"
     ]
    }
   ],
   "source": [
    "print(evaluate(expr7))"
   ]
  },
  {
   "cell_type": "code",
   "execution_count": 30,
   "id": "2c6e4466-7ba8-41d0-96d1-5448d61a7de7",
   "metadata": {},
   "outputs": [
    {
     "name": "stdout",
     "output_type": "stream",
     "text": [
      "None\n"
     ]
    }
   ],
   "source": [
    "expr8 = {\"Hello\"}\n",
    "print(display(expr7))  # Expected output: '((1+2)*(3+4))'"
   ]
  },
  {
   "cell_type": "code",
   "execution_count": 32,
   "id": "1ab7a66a-2b0a-4e49-b8ef-d316c3f9b209",
   "metadata": {},
   "outputs": [
    {
     "name": "stdout",
     "output_type": "stream",
     "text": [
      "None\n"
     ]
    }
   ],
   "source": [
    "print(evaluate(expr8))"
   ]
  },
  {
   "cell_type": "code",
   "execution_count": 31,
   "id": "5031b110-aec3-4d9f-848d-5ea7028bb512",
   "metadata": {},
   "outputs": [
    {
     "name": "stdout",
     "output_type": "stream",
     "text": [
      "False\n"
     ]
    }
   ],
   "source": [
    "print(validate(expr7))"
   ]
  },
  {
   "cell_type": "code",
   "execution_count": null,
   "id": "c9dcb373-aa32-4431-ad08-b4627265b3ce",
   "metadata": {},
   "outputs": [],
   "source": []
  }
 ],
 "metadata": {
  "kernelspec": {
   "display_name": "Python 3 (ipykernel)",
   "language": "python",
   "name": "python3"
  },
  "language_info": {
   "codemirror_mode": {
    "name": "ipython",
    "version": 3
   },
   "file_extension": ".py",
   "mimetype": "text/x-python",
   "name": "python",
   "nbconvert_exporter": "python",
   "pygments_lexer": "ipython3",
   "version": "3.9.12"
  }
 },
 "nbformat": 4,
 "nbformat_minor": 5
}
