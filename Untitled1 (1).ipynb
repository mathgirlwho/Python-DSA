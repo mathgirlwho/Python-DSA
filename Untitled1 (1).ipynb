{
  "nbformat": 4,
  "nbformat_minor": 0,
  "metadata": {
    "colab": {
      "provenance": []
    },
    "kernelspec": {
      "name": "python3",
      "display_name": "Python 3"
    },
    "language_info": {
      "name": "python"
    }
  },
  "cells": [
    {
      "cell_type": "code",
      "execution_count": 2,
      "metadata": {
        "id": "-RQYsJykQcXK"
      },
      "outputs": [],
      "source": [
        "# Helper function team_abbrevs: Team name abbreviations, each tuple consists of (Abbreviation, Team Name)\n",
        "# Example:\n",
        "# team_abbrevs = [\n",
        "#     (\"CSK\", \"Chennai Super Kings\"),\n",
        "#     (\"MI\", \"Mumbai Indians\"),\n",
        "#     (\"RCB\", \"Royal Challengers Bangalore\"),\n",
        "#     # Added all team abbreviations here below\n",
        "# ]\n",
        "\n",
        "# Helper function match_data: IPL match data from 2007-2008 to 2024, each tuple consists of:\n",
        "# (Season, City, Match Type, Team 1, Team 2, Toss Winner, Toss Decision, Match Winner)\n",
        "# Example:\n",
        "# match_data = [\n",
        "#     (2008, \"Chennai\", \"League\", \"CSK\", \"MI\", \"CSK\", \"Bat\", \"CSK\"),\n",
        "#     (2008, \"Mumbai\", \"League\", \"RCB\", \"MI\", \"MI\", \"Bowl\", \"MI\"),\n",
        "#     # Added all match data here below\n",
        "# ]\n",
        "\n",
        "# Instructions:\n",
        "# 1. Write Python function(s) for each question, as specified below.\n",
        "# 2. Access team_abbrevs and match_data as global variables. Do not pass them to the function as arguments.\n",
        "# 3. You may (and probably should) write auxiliary helper functions as needed.\n",
        "# 4. Submit your solution through Moodle as a single Python notebook with solutions to all the questions.\n",
        "# 5. Ensure you add documentation to separate out the solutions into clearly marked areas within the notebook and explain at a high level what your code is doing.\n",
        "# 6. Provide sample executions for each function.\n",
        "\n",
        "\n",
        "\n",
        "team_abbrevs = [ (\"CSK\",\"Chennai Super Kings\"), (\"DCH\",\"Deccan Chargers\"), (\"DCP\",\"Delhi Capitals\"), (\"DDD\",\"Delhi Daredevils\"), (\"GL\",\"Gujarat Lions\"), (\"GT\",\"Gujarat Titans\"), (\"KXP\",\"Kings XI Punjab\"), (\"KTK\",\"Kochi Tuskers Kerala\"), (\"KKR\",\"Kolkata Knight Riders\"), (\"LST\",\"Lucknow Super Giants\"), (\"MI\",\"Mumbai Indians\"), (\"PW\",\"Pune Warriors\"), (\"PK\",\"Punjab Kings\"), (\"RR\",\"Rajasthan Royals\"), (\"RPS\",\"Rising Pune Supergiants\"), (\"RCB\",\"Royal Challengers Bengaluru\"),  (\"SRH\",\"Sunrisers Hyderabad\") ]\n",
        "\n",
        "\n",
        "match_data = [  (\"2007/08\",\"Bangalore\",\"League\",\"RCB\",\"KKR\",\"RCB\",\"field\",\"KKR\"),  (\"2007/08\",\"Chandigarh\",\"League\",\"KXP\",\"CSK\",\"CSK\",\"bat\",\"CSK\"),  (\"2007/08\",\"Delhi\",\"League\",\"DDD\",\"RR\",\"RR\",\"bat\",\"DDD\"),  (\"2007/08\",\"Mumbai\",\"League\",\"MI\",\"RCB\",\"MI\",\"bat\",\"RCB\"),  (\"2007/08\",\"Kolkata\",\"League\",\"KKR\",\"DCH\",\"DCH\",\"bat\",\"KKR\"),  (\"2007/08\",\"Jaipur\",\"League\",\"RR\",\"KXP\",\"KXP\",\"bat\",\"RR\"),  (\"2007/08\",\"Hyderabad\",\"League\",\"DCH\",\"DDD\",\"DCH\",\"bat\",\"DDD\"),  (\"2007/08\",\"Chennai\",\"League\",\"CSK\",\"MI\",\"MI\",\"field\",\"CSK\"),  (\"2007/08\",\"Hyderabad\",\"League\",\"DCH\",\"RR\",\"RR\",\"field\",\"RR\"),  (\"2007/08\",\"Chandigarh\",\"League\",\"KXP\",\"MI\",\"MI\",\"field\",\"KXP\"),  (\"2007/08\",\"Bangalore\",\"League\",\"RCB\",\"RR\",\"RR\",\"field\",\"RR\"),  (\"2007/08\",\"Chennai\",\"League\",\"CSK\",\"KKR\",\"KKR\",\"bat\",\"CSK\"),  (\"2007/08\",\"Mumbai\",\"League\",\"MI\",\"DCH\",\"DCH\",\"field\",\"DCH\"),  (\"2007/08\",\"Chandigarh\",\"League\",\"KXP\",\"DDD\",\"DDD\",\"bat\",\"KXP\"),  (\"2007/08\",\"Bangalore\",\"League\",\"RCB\",\"CSK\",\"CSK\",\"bat\",\"CSK\"),  (\"2007/08\",\"Kolkata\",\"League\",\"KKR\",\"MI\",\"KKR\",\"bat\",\"MI\"),  (\"2007/08\",\"Delhi\",\"League\",\"DDD\",\"RCB\",\"RCB\",\"field\",\"DDD\"),  (\"2007/08\",\"Hyderabad\",\"League\",\"DCH\",\"KXP\",\"KXP\",\"field\",\"KXP\"),  (\"2007/08\",\"Jaipur\",\"League\",\"RR\",\"KKR\",\"RR\",\"bat\",\"RR\"),  (\"2007/08\",\"Chennai\",\"League\",\"CSK\",\"DDD\",\"CSK\",\"bat\",\"DDD\"),  (\"2007/08\",\"Chandigarh\",\"League\",\"KXP\",\"KKR\",\"KXP\",\"bat\",\"KXP\"),  (\"2007/08\",\"Bangalore\",\"League\",\"RCB\",\"DCH\",\"DCH\",\"field\",\"RCB\"),  (\"2007/08\",\"Mumbai\",\"League\",\"MI\",\"DDD\",\"DDD\",\"field\",\"MI\"),  (\"2007/08\",\"Jaipur\",\"League\",\"RR\",\"CSK\",\"CSK\",\"bat\",\"RR\"),  (\"2007/08\",\"Bangalore\",\"League\",\"RCB\",\"KXP\",\"KXP\",\"field\",\"KXP\"),  (\"2007/08\",\"Chennai\",\"League\",\"CSK\",\"DCH\",\"DCH\",\"field\",\"DCH\"),  (\"2007/08\",\"Mumbai\",\"League\",\"MI\",\"RR\",\"MI\",\"field\",\"MI\"),  (\"2007/08\",\"Delhi\",\"League\",\"DDD\",\"CSK\",\"CSK\",\"field\",\"CSK\"),  (\"2007/08\",\"Kolkata\",\"League\",\"KKR\",\"RCB\",\"KKR\",\"bat\",\"KKR\"),  (\"2007/08\",\"Jaipur\",\"League\",\"RR\",\"DCH\",\"RR\",\"field\",\"RR\"),  (\"2007/08\",\"Chennai\",\"League\",\"CSK\",\"KXP\",\"KXP\",\"field\",\"CSK\"),  (\"2007/08\",\"Hyderabad\",\"League\",\"DCH\",\"KKR\",\"KKR\",\"bat\",\"KKR\"),  (\"2007/08\",\"Jaipur\",\"League\",\"RR\",\"DDD\",\"RR\",\"field\",\"RR\"),  (\"2007/08\",\"Chandigarh\",\"League\",\"KXP\",\"RCB\",\"RCB\",\"bat\",\"KXP\"),  (\"2007/08\",\"Kolkata\",\"League\",\"KKR\",\"DDD\",\"KKR\",\"bat\",\"KKR\"),  (\"2007/08\",\"Mumbai\",\"League\",\"MI\",\"CSK\",\"MI\",\"field\",\"MI\"),  (\"2007/08\",\"Delhi\",\"League\",\"DDD\",\"DCH\",\"DCH\",\"field\",\"DDD\"),  (\"2007/08\",\"Mumbai\",\"League\",\"MI\",\"KKR\",\"MI\",\"field\",\"MI\"),  (\"2007/08\",\"Delhi\",\"League\",\"DDD\",\"KXP\",\"DDD\",\"bat\",\"KXP\"),  (\"2007/08\",\"Jaipur\",\"League\",\"RR\",\"RCB\",\"RCB\",\"field\",\"RR\"),  (\"2007/08\",\"Hyderabad\",\"League\",\"DCH\",\"MI\",\"DCH\",\"field\",\"MI\"),  (\"2007/08\",\"Kolkata\",\"League\",\"KKR\",\"CSK\",\"KKR\",\"bat\",\"CSK\"),  (\"2007/08\",\"Bangalore\",\"League\",\"RCB\",\"DDD\",\"DDD\",\"field\",\"DDD\"),  (\"2007/08\",\"Kolkata\",\"League\",\"KKR\",\"RR\",\"RR\",\"field\",\"RR\"),  (\"2007/08\",\"Mumbai\",\"League\",\"MI\",\"KXP\",\"MI\",\"field\",\"KXP\"),  (\"2007/08\",\"Chennai\",\"League\",\"CSK\",\"RCB\",\"RCB\",\"bat\",\"RCB\"),  (\"2007/08\",\"Chandigarh\",\"League\",\"KXP\",\"DCH\",\"KXP\",\"field\",\"KXP\"),  (\"2007/08\",\"Delhi\",\"League\",\"DDD\",\"MI\",\"DDD\",\"field\",\"DDD\"),  (\"2007/08\",\"Chennai\",\"League\",\"CSK\",\"RR\",\"RR\",\"bat\",\"RR\"),  (\"2007/08\",\"Hyderabad\",\"League\",\"DCH\",\"RCB\",\"DCH\",\"bat\",\"RCB\"),  (\"2007/08\",\"Kolkata\",\"League\",\"KKR\",\"KXP\",\"KXP\",\"bat\",\"KKR\"),  (\"2007/08\",\"Jaipur\",\"League\",\"RR\",\"MI\",\"RR\",\"field\",\"RR\"),  (\"2007/08\",\"Hyderabad\",\"League\",\"DCH\",\"CSK\",\"DCH\",\"bat\",\"CSK\"),  (\"2007/08\",\"Bangalore\",\"League\",\"RCB\",\"MI\",\"MI\",\"field\",\"MI\"),  (\"2007/08\",\"Chandigarh\",\"League\",\"KXP\",\"RR\",\"RR\",\"field\",\"KXP\"),  (\"2007/08\",\"Mumbai\",\"Semi Final\",\"DDD\",\"RR\",\"DDD\",\"field\",\"RR\"),  (\"2007/08\",\"Mumbai\",\"Semi Final\",\"CSK\",\"KXP\",\"KXP\",\"bat\",\"CSK\"),  (\"2007/08\",\"Mumbai\",\"Final\",\"CSK\",\"RR\",\"RR\",\"field\",\"RR\"),  (\"2009\",\"Cape Town\",\"League\",\"CSK\",\"MI\",\"CSK\",\"field\",\"MI\"),  (\"2009\",\"Cape Town\",\"League\",\"RCB\",\"RR\",\"RCB\",\"bat\",\"RCB\"),  (\"2009\",\"Cape Town\",\"League\",\"DDD\",\"KXP\",\"DDD\",\"field\",\"DDD\"),  (\"2009\",\"Cape Town\",\"League\",\"DCH\",\"KKR\",\"KKR\",\"bat\",\"DCH\"),  (\"2009\",\"Port Elizabeth\",\"League\",\"RCB\",\"CSK\",\"CSK\",\"bat\",\"CSK\"),  (\"2009\",\"Durban\",\"League\",\"KXP\",\"KKR\",\"KKR\",\"field\",\"KKR\"),  (\"2009\",\"Cape Town\",\"League\",\"RCB\",\"DCH\",\"DCH\",\"bat\",\"DCH\"),  (\"2009\",\"Durban\",\"League\",\"CSK\",\"DDD\",\"DDD\",\"bat\",\"DDD\"),  (\"2009\",\"Cape Town\",\"League\",\"KKR\",\"RR\",\"KKR\",\"field\",\"RR\"),  (\"2009\",\"Durban\",\"League\",\"RCB\",\"KXP\",\"RCB\",\"bat\",\"KXP\"),  (\"2009\",\"Durban\",\"League\",\"DCH\",\"MI\",\"DCH\",\"bat\",\"DCH\"),  (\"2009\",\"Port Elizabeth\",\"League\",\"RCB\",\"DDD\",\"RCB\",\"bat\",\"DDD\"),  (\"2009\",\"Cape Town\",\"League\",\"KXP\",\"RR\",\"KXP\",\"bat\",\"KXP\"),  (\"2009\",\"Durban\",\"League\",\"CSK\",\"DCH\",\"DCH\",\"field\",\"DCH\"),  (\"2009\",\"Port Elizabeth\",\"League\",\"KKR\",\"MI\",\"MI\",\"bat\",\"MI\"),  (\"2009\",\"Centurion\",\"League\",\"DDD\",\"RR\",\"DDD\",\"bat\",\"RR\"),  (\"2009\",\"Durban\",\"League\",\"RCB\",\"KKR\",\"KKR\",\"bat\",\"RCB\"),  (\"2009\",\"Durban\",\"League\",\"KXP\",\"MI\",\"KXP\",\"bat\",\"KXP\"),  (\"2009\",\"Centurion\",\"League\",\"DCH\",\"DDD\",\"DDD\",\"field\",\"DDD\"),  (\"2009\",\"Centurion\",\"League\",\"CSK\",\"RR\",\"RR\",\"field\",\"CSK\"),  (\"2009\",\"East London\",\"League\",\"KKR\",\"MI\",\"MI\",\"bat\",\"MI\"),  (\"2009\",\"Durban\",\"League\",\"RCB\",\"KXP\",\"RCB\",\"bat\",\"RCB\"),  (\"2009\",\"Port Elizabeth\",\"League\",\"DCH\",\"RR\",\"DCH\",\"bat\",\"RR\"),  (\"2009\",\"Johannesburg\",\"League\",\"CSK\",\"DDD\",\"DDD\",\"field\",\"CSK\"),\n",
        "              (\"2009\",\"Port Elizabeth\",\"League\",\"KXP\",\"KKR\",\"KKR\",\"bat\",\"KXP\"),  (\"2009\",\"Johannesburg\",\"League\",\"RCB\",\"MI\",\"MI\",\"bat\",\"RCB\"),  (\"2009\",\"East London\",\"League\",\"CSK\",\"DCH\",\"CSK\",\"bat\",\"CSK\"),  (\"2009\",\"Durban\",\"League\",\"KXP\",\"RR\",\"KXP\",\"field\",\"RR\"),  (\"2009\",\"Durban\",\"League\",\"DDD\",\"KKR\",\"KKR\",\"bat\",\"DDD\"),  (\"2009\",\"Centurion\",\"League\",\"DCH\",\"MI\",\"DCH\",\"bat\",\"DCH\"),  (\"2009\",\"Centurion\",\"League\",\"RCB\",\"RR\",\"RR\",\"field\",\"RR\"),  (\"2009\",\"Centurion\",\"League\",\"CSK\",\"KXP\",\"CSK\",\"bat\",\"CSK\"),  (\"2009\",\"East London\",\"League\",\"DDD\",\"MI\",\"MI\",\"bat\",\"DDD\"),  (\"2009\",\"Kimberley\",\"League\",\"DCH\",\"KXP\",\"KXP\",\"field\",\"KXP\"),  (\"2009\",\"Kimberley\",\"League\",\"CSK\",\"RR\",\"RR\",\"bat\",\"CSK\"),  (\"2009\",\"Port Elizabeth\",\"League\",\"RCB\",\"MI\",\"MI\",\"bat\",\"MI\"),  (\"2009\",\"Johannesburg\",\"League\",\"DDD\",\"KKR\",\"DDD\",\"field\",\"DDD\"),  (\"2009\",\"Kimberley\",\"League\",\"DCH\",\"RR\",\"DCH\",\"bat\",\"DCH\"),  (\"2009\",\"Centurion\",\"League\",\"RCB\",\"KKR\",\"RCB\",\"field\",\"RCB\"),  (\"2009\",\"Centurion\",\"League\",\"KXP\",\"MI\",\"KXP\",\"bat\",\"MI\"),  (\"2009\",\"Durban\",\"League\",\"DCH\",\"DDD\",\"DCH\",\"field\",\"DDD\"),  (\"2009\",\"Durban\",\"League\",\"RCB\",\"CSK\",\"CSK\",\"bat\",\"RCB\"),  (\"2009\",\"Durban\",\"League\",\"MI\",\"RR\",\"RR\",\"bat\",\"RR\"),  (\"2009\",\"Bloemfontein\",\"League\",\"DDD\",\"KXP\",\"KXP\",\"field\",\"KXP\"),  (\"2009\",\"Port Elizabeth\",\"League\",\"CSK\",\"MI\",\"MI\",\"bat\",\"CSK\"),  (\"2009\",\"Johannesburg\",\"League\",\"DCH\",\"KKR\",\"DCH\",\"field\",\"DCH\"),  (\"2009\",\"Johannesburg\",\"League\",\"DCH\",\"KXP\",\"DCH\",\"field\",\"KXP\"),  (\"2009\",\"Bloemfontein\",\"League\",\"DDD\",\"RR\",\"DDD\",\"bat\",\"DDD\"),  (\"2009\",\"Centurion\",\"League\",\"CSK\",\"KKR\",\"CSK\",\"bat\",\"KKR\"),  (\"2009\",\"Johannesburg\",\"League\",\"RCB\",\"DDD\",\"DDD\",\"bat\",\"RCB\"),  (\"2009\",\"Durban\",\"League\",\"KKR\",\"RR\",\"KKR\",\"field\",\"KKR\"),  (\"2009\",\"Durban\",\"League\",\"CSK\",\"KXP\",\"CSK\",\"bat\",\"CSK\"),  (\"2009\",\"Centurion\",\"League\",\"DDD\",\"MI\",\"DDD\",\"field\",\"DDD\"),  (\"2009\",\"Centurion\",\"League\",\"RCB\",\"DCH\",\"RCB\",\"bat\",\"RCB\"),  (\"2009\",\"Centurion\",\"Semi Final\",\"DDD\",\"DCH\",\"DCH\",\"field\",\"DCH\"),  (\"2009\",\"Johannesburg\",\"Semi Final\",\"RCB\",\"CSK\",\"RCB\",\"field\",\"RCB\"),  (\"2009\",\"Johannesburg\",\"Final\",\"RCB\",\"DCH\",\"RCB\",\"field\",\"DCH\"),  (\"2009/10\",\"Mumbai\",\"League\",\"DCH\",\"KKR\",\"DCH\",\"field\",\"KKR\"),  (\"2009/10\",\"Mumbai\",\"League\",\"MI\",\"RR\",\"MI\",\"bat\",\"MI\"),  (\"2009/10\",\"Chandigarh\",\"League\",\"KXP\",\"DDD\",\"DDD\",\"field\",\"DDD\"),  (\"2009/10\",\"Kolkata\",\"League\",\"KKR\",\"RCB\",\"KKR\",\"field\",\"KKR\"),  (\"2009/10\",\"Chennai\",\"League\",\"CSK\",\"DCH\",\"DCH\",\"bat\",\"DCH\"),  (\"2009/10\",\"Ahmedabad\",\"League\",\"RR\",\"DDD\",\"DDD\",\"field\",\"DDD\"),  (\"2009/10\",\"Bangalore\",\"League\",\"RCB\",\"KXP\",\"KXP\",\"bat\",\"RCB\"),  (\"2009/10\",\"Kolkata\",\"League\",\"KKR\",\"CSK\",\"CSK\",\"bat\",\"CSK\"),  (\"2009/10\",\"Delhi\",\"League\",\"DDD\",\"MI\",\"DDD\",\"field\",\"MI\"),  (\"2009/10\",\"Bangalore\",\"League\",\"RCB\",\"RR\",\"RCB\",\"field\",\"RCB\"),  (\"2009/10\",\"Delhi\",\"League\",\"DDD\",\"CSK\",\"DDD\",\"bat\",\"CSK\"),  (\"2009/10\",\"Cuttack\",\"League\",\"DCH\",\"KXP\",\"KXP\",\"field\",\"DCH\"),  (\"2009/10\",\"Ahmedabad\",\"League\",\"RR\",\"KKR\",\"RR\",\"bat\",\"RR\"),  (\"2009/10\",\"Mumbai\",\"League\",\"MI\",\"RCB\",\"MI\",\"bat\",\"RCB\"),  (\"2009/10\",\"Cuttack\",\"League\",\"DCH\",\"DDD\",\"DCH\",\"bat\",\"DCH\"),  (\"2009/10\",\"Chennai\",\"League\",\"CSK\",\"KXP\",\"CSK\",\"field\",\"KXP\"),  (\"2009/10\",\"Mumbai\",\"League\",\"MI\",\"KKR\",\"KKR\",\"bat\",\"MI\"),  (\"2009/10\",\"Bangalore\",\"League\",\"RCB\",\"CSK\",\"CSK\",\"field\",\"RCB\"),  (\"2009/10\",\"Chandigarh\",\"League\",\"KXP\",\"RR\",\"KXP\",\"field\",\"RR\"),  (\"2009/10\",\"Mumbai\",\"League\",\"CSK\",\"MI\",\"MI\",\"field\",\"MI\"),  (\"2009/10\",\"Bangalore\",\"League\",\"RCB\",\"DDD\",\"RCB\",\"field\",\"DDD\"),  (\"2009/10\",\"Ahmedabad\",\"League\",\"RR\",\"DCH\",\"DCH\",\"bat\",\"RR\"),  (\"2009/10\",\"Chandigarh\",\"League\",\"KXP\",\"KKR\",\"KKR\",\"bat\",\"KKR\"),  (\"2009/10\",\"Ahmedabad\",\"League\",\"RR\",\"CSK\",\"RR\",\"bat\",\"RR\"),  (\"2009/10\",\"Mumbai\",\"League\",\"DCH\",\"MI\",\"DCH\",\"field\",\"MI\"),  (\"2009/10\",\"Delhi\",\"League\",\"DDD\",\"KKR\",\"DDD\",\"bat\",\"DDD\"),  (\"2009/10\",\"Mumbai\",\"League\",\"MI\",\"KXP\",\"MI\",\"field\",\"MI\"),  (\"2009/10\",\"Chennai\",\"League\",\"CSK\",\"RCB\",\"RCB\",\"bat\",\"CSK\"),  (\"2009/10\",\"Delhi\",\"League\",\"DDD\",\"RR\",\"DDD\",\"bat\",\"DDD\"),  (\"2009/10\",\"Kolkata\",\"League\",\"KKR\",\"DCH\",\"KKR\",\"bat\",\"KKR\"),  (\"2009/10\",\"Chandigarh\",\"League\",\"KXP\",\"RCB\",\"KXP\",\"bat\",\"RCB\"),  (\"2009/10\",\"Chennai\",\"League\",\"CSK\",\"RR\",\"CSK\",\"bat\",\"CSK\"),  (\"2009/10\",\"Mumbai\",\"League\",\"MI\",\"DCH\",\"MI\",\"bat\",\"MI\"),  (\"2009/10\",\"Kolkata\",\"League\",\"KKR\",\"KXP\",\"KKR\",\"bat\",\"KXP\"),  (\"2009/10\",\"Delhi\",\"League\",\"DDD\",\"RCB\",\"DDD\",\"bat\",\"DDD\"),  (\"2009/10\",\"Nagpur\",\"League\",\"DCH\",\"RR\",\"RR\",\"bat\",\"RR\"),  (\"2009/10\",\"Chennai\",\"League\",\"CSK\",\"MI\",\"CSK\",\"bat\",\"CSK\"),  (\"2009/10\",\"Jaipur\",\"League\",\"RR\",\"KXP\",\"KXP\",\"bat\",\"RR\"),  (\"2009/10\",\"Kolkata\",\"League\",\"KKR\",\"DDD\",\"KKR\",\"bat\",\"KKR\"),  (\"2009/10\",\"Bangalore\",\"League\",\"RCB\",\"DCH\",\"DCH\",\"field\",\"DCH\"),  (\"2009/10\",\"Chandigarh\",\"League\",\"KXP\",\"MI\",\"MI\",\"bat\",\"KXP\"),  (\"2009/10\",\"Nagpur\",\"League\",\"DCH\",\"CSK\",\"CSK\",\"bat\",\"DCH\"),  (\"2009/10\",\"Bangalore\",\"League\",\"RCB\",\"KKR\",\"RCB\",\"field\",\"RCB\"),  (\"2009/10\",\"Delhi\",\"League\",\"DDD\",\"KXP\",\"DDD\",\"bat\",\"KXP\"),  (\"2009/10\",\"Jaipur\",\"League\",\"RR\",\"MI\",\"RR\",\"field\",\"MI\"),  (\"2009/10\",\"Nagpur\",\"League\",\"DCH\",\"RCB\",\"RCB\",\"field\",\"DCH\"),  (\"2009/10\",\"Mumbai\",\"League\",\"MI\",\"DDD\",\"MI\",\"bat\",\"MI\"),  (\"2009/10\",\"Chennai\",\"League\",\"CSK\",\"KKR\",\"KKR\",\"bat\",\"CSK\"),  (\"2009/10\",\"Jaipur\",\"League\",\"RR\",\"RCB\",\"RR\",\"bat\",\"RCB\"),  (\"2009/10\",\"Chennai\",\"League\",\"CSK\",\"DDD\",\"CSK\",\"bat\",\"DDD\"),  (\"2009/10\",\"Dharamsala\",\"League\",\"KXP\",\"DCH\",\"DCH\",\"field\",\"DCH\"),  (\"2009/10\",\"Bangalore\",\"League\",\"RCB\",\"MI\",\"RCB\",\"field\",\"MI\"),  (\"2009/10\",\"Kolkata\",\"League\",\"KKR\",\"RR\",\"RR\",\"bat\",\"KKR\"),\n",
        "              (\"2009/10\",\"Dharamsala\",\"League\",\"KXP\",\"CSK\",\"CSK\",\"field\",\"CSK\"),  (\"2009/10\",\"Delhi\",\"League\",\"DDD\",\"DCH\",\"DCH\",\"bat\",\"DCH\"),  (\"2009/10\",\"Kolkata\",\"League\",\"KKR\",\"MI\",\"MI\",\"bat\",\"KKR\"),  (\"2009/10\",\"Mumbai\",\"Semi Final\",\"RCB\",\"MI\",\"MI\",\"bat\",\"MI\"),  (\"2009/10\",\"Mumbai\",\"Semi Final\",\"CSK\",\"DCH\",\"CSK\",\"bat\",\"CSK\"),  (\"2009/10\",\"Mumbai\",\"3rd Place Play-Off\",\"RCB\",\"DCH\",\"DCH\",\"bat\",\"RCB\"),  (\"2009/10\",\"Mumbai\",\"Final\",\"CSK\",\"MI\",\"CSK\",\"bat\",\"CSK\"),  (\"2011\",\"Chennai\",\"League\",\"CSK\",\"KKR\",\"CSK\",\"bat\",\"CSK\"),  (\"2011\",\"Hyderabad\",\"League\",\"DCH\",\"RR\",\"RR\",\"field\",\"RR\"),  (\"2011\",\"Kochi\",\"League\",\"KTK\",\"RCB\",\"KTK\",\"bat\",\"RCB\"),  (\"2011\",\"Delhi\",\"League\",\"DDD\",\"MI\",\"DDD\",\"bat\",\"MI\"),  (\"2011\",\"Mumbai\",\"League\",\"PW\",\"KXP\",\"KXP\",\"bat\",\"PW\"),  (\"2011\",\"Kolkata\",\"League\",\"KKR\",\"DCH\",\"KKR\",\"bat\",\"KKR\"),  (\"2011\",\"Jaipur\",\"League\",\"RR\",\"DDD\",\"DDD\",\"bat\",\"RR\"),  (\"2011\",\"Bangalore\",\"League\",\"RCB\",\"MI\",\"MI\",\"field\",\"MI\"),  (\"2011\",\"Chandigarh\",\"League\",\"KXP\",\"CSK\",\"KXP\",\"field\",\"KXP\"),  (\"2011\",\"Mumbai\",\"League\",\"PW\",\"KTK\",\"KTK\",\"bat\",\"PW\"),  (\"2011\",\"Hyderabad\",\"League\",\"DCH\",\"RCB\",\"RCB\",\"field\",\"DCH\"),  (\"2011\",\"Jaipur\",\"League\",\"RR\",\"KKR\",\"KKR\",\"field\",\"KKR\"),  (\"2011\",\"Mumbai\",\"League\",\"MI\",\"KTK\",\"KTK\",\"field\",\"KTK\"),  (\"2011\",\"Chennai\",\"League\",\"CSK\",\"RCB\",\"CSK\",\"bat\",\"CSK\"),  (\"2011\",\"Hyderabad\",\"League\",\"DCH\",\"KXP\",\"KXP\",\"field\",\"KXP\"),  (\"2011\",\"Mumbai\",\"League\",\"PW\",\"DDD\",\"DDD\",\"field\",\"DDD\"),  (\"2011\",\"Kolkata\",\"League\",\"KKR\",\"RR\",\"KKR\",\"field\",\"KKR\"),  (\"2011\",\"Kochi\",\"League\",\"KTK\",\"CSK\",\"KTK\",\"field\",\"KTK\"),  (\"2011\",\"Delhi\",\"League\",\"DDD\",\"DCH\",\"DCH\",\"bat\",\"DCH\"),  (\"2011\",\"Mumbai\",\"League\",\"MI\",\"PW\",\"PW\",\"bat\",\"MI\"),  (\"2011\",\"Kolkata\",\"League\",\"KKR\",\"KTK\",\"KKR\",\"field\",\"KTK\"),  (\"2011\",\"Chandigarh\",\"League\",\"KXP\",\"RR\",\"RR\",\"field\",\"KXP\"),  (\"2011\",\"Mumbai\",\"League\",\"MI\",\"CSK\",\"CSK\",\"field\",\"MI\"),  (\"2011\",\"Kolkata\",\"League\",\"KKR\",\"RCB\",\"RCB\",\"field\",\"RCB\"),  (\"2011\",\"Delhi\",\"League\",\"DDD\",\"KXP\",\"KXP\",\"field\",\"DDD\"),  (\"2011\",\"Hyderabad\",\"League\",\"DCH\",\"MI\",\"DCH\",\"field\",\"MI\"),  (\"2011\",\"Jaipur\",\"League\",\"RR\",\"KTK\",\"RR\",\"field\",\"RR\"),  (\"2011\",\"Chennai\",\"League\",\"CSK\",\"PW\",\"PW\",\"field\",\"CSK\"),  (\"2011\",\"Delhi\",\"League\",\"DDD\",\"RCB\",\"RCB\",\"field\",\"RCB\"),  (\"2011\",\"Mumbai\",\"League\",\"PW\",\"CSK\",\"PW\",\"bat\",\"CSK\"),  (\"2011\",\"Kochi\",\"League\",\"KTK\",\"DCH\",\"KTK\",\"field\",\"DCH\"),  (\"2011\",\"Delhi\",\"League\",\"DDD\",\"KKR\",\"DDD\",\"field\",\"KKR\"),  (\"2011\",\"Jaipur\",\"League\",\"RR\",\"MI\",\"RR\",\"field\",\"RR\"),  (\"2011\",\"Bangalore\",\"League\",\"RCB\",\"PW\",\"PW\",\"field\",\"RCB\"),  (\"2011\",\"Kochi\",\"League\",\"KTK\",\"DDD\",\"DDD\",\"bat\",\"DDD\"),  (\"2011\",\"Kolkata\",\"League\",\"KKR\",\"KXP\",\"KKR\",\"field\",\"KKR\"),  (\"2011\",\"Jaipur\",\"League\",\"RR\",\"PW\",\"RR\",\"field\",\"RR\"),  (\"2011\",\"Chennai\",\"League\",\"CSK\",\"DCH\",\"CSK\",\"bat\",\"CSK\"),  (\"2011\",\"Mumbai\",\"League\",\"MI\",\"KXP\",\"KXP\",\"field\",\"MI\"),  (\"2011\",\"Delhi\",\"League\",\"DDD\",\"KTK\",\"KTK\",\"field\",\"KTK\"),  (\"2011\",\"Hyderabad\",\"League\",\"DCH\",\"KKR\",\"DCH\",\"field\",\"KKR\"),  (\"2011\",\"Chennai\",\"League\",\"CSK\",\"RR\",\"RR\",\"bat\",\"CSK\"),  (\"2011\",\"Mumbai\",\"League\",\"PW\",\"MI\",\"PW\",\"field\",\"MI\"),  (\"2011\",\"Kochi\",\"League\",\"KTK\",\"KKR\",\"KKR\",\"field\",\"KTK\"),  (\"2011\",\"Hyderabad\",\"League\",\"DCH\",\"DDD\",\"DDD\",\"field\",\"DDD\"),  (\"2011\",\"Bangalore\",\"League\",\"RCB\",\"KXP\",\"KXP\",\"field\",\"RCB\"),  (\"2011\",\"Kolkata\",\"League\",\"KKR\",\"CSK\",\"CSK\",\"bat\",\"KKR\"),  (\"2011\",\"Mumbai\",\"League\",\"MI\",\"DDD\",\"DDD\",\"field\",\"MI\"),  (\"2011\",\"Bangalore\",\"League\",\"RCB\",\"KTK\",\"KTK\",\"bat\",\"RCB\"),  (\"2011\",\"Chandigarh\",\"League\",\"KXP\",\"PW\",\"KXP\",\"bat\",\"PW\"),  (\"2011\",\"Jaipur\",\"League\",\"RR\",\"CSK\",\"RR\",\"field\",\"CSK\"),  (\"2011\",\"Hyderabad\",\"League\",\"DCH\",\"PW\",\"DCH\",\"bat\",\"PW\"),  (\"2011\",\"Chandigarh\",\"League\",\"KXP\",\"MI\",\"MI\",\"field\",\"KXP\"),  (\"2011\",\"Jaipur\",\"League\",\"RR\",\"RCB\",\"RCB\",\"field\",\"RCB\"),  (\"2011\",\"Chennai\",\"League\",\"CSK\",\"DDD\",\"CSK\",\"bat\",\"CSK\"),  (\"2011\",\"Indore\",\"League\",\"KTK\",\"KXP\",\"KXP\",\"field\",\"KXP\"),  (\"2011\",\"Bangalore\",\"League\",\"RCB\",\"KKR\",\"RCB\",\"field\",\"RCB\"),  (\"2011\",\"Mumbai\",\"League\",\"MI\",\"DCH\",\"DCH\",\"bat\",\"DCH\"),  (\"2011\",\"Dharamsala\",\"League\",\"KXP\",\"DDD\",\"DDD\",\"field\",\"KXP\"),  (\"2011\",\"Indore\",\"League\",\"KTK\",\"RR\",\"KTK\",\"field\",\"KTK\"),  (\"2011\",\"Mumbai\",\"League\",\"PW\",\"DCH\",\"DCH\",\"field\",\"DCH\"),  (\"2011\",\"Dharamsala\",\"League\",\"KXP\",\"RCB\",\"KXP\",\"bat\",\"KXP\"),  (\"2011\",\"Chennai\",\"League\",\"CSK\",\"KTK\",\"CSK\",\"bat\",\"CSK\"),  (\"2011\",\"Mumbai\",\"League\",\"PW\",\"KKR\",\"KKR\",\"field\",\"KKR\"),  (\"2011\",\"Mumbai\",\"League\",\"MI\",\"RR\",\"MI\",\"bat\",\"RR\"),  (\"2011\",\"Dharamsala\",\"League\",\"KXP\",\"DCH\",\"KXP\",\"field\",\"DCH\"),  (\"2011\",\"Delhi\",\"League\",\"DDD\",\"PW\",\"DDD\",\"bat\",\"NA\"),  (\"2011\",\"Bangalore\",\"League\",\"RCB\",\"CSK\",\"RCB\",\"field\",\"RCB\"),  (\"2011\",\"Kolkata\",\"League\",\"KKR\",\"MI\",\"MI\",\"field\",\"MI\"),  (\"2011\",\"Mumbai\",\"Qualifier 1\",\"RCB\",\"CSK\",\"CSK\",\"field\",\"CSK\"),  (\"2011\",\"Mumbai\",\"Elimination Final\",\"MI\",\"KKR\",\"MI\",\"field\",\"MI\"),  (\"2011\",\"Chennai\",\"Qualifier 2\",\"RCB\",\"MI\",\"MI\",\"field\",\"RCB\"),  (\"2011\",\"Chennai\",\"Final\",\"CSK\",\"RCB\",\"CSK\",\"bat\",\"CSK\"),  (\"2012\",\"Chennai\",\"League\",\"CSK\",\"MI\",\"MI\",\"field\",\"MI\"),  (\"2012\",\"Kolkata\",\"League\",\"KKR\",\"DDD\",\"DDD\",\"field\",\"DDD\"),  (\"2012\",\"Mumbai\",\"League\",\"MI\",\"PW\",\"MI\",\"field\",\"PW\"),  (\"2012\",\"Jaipur\",\"League\",\"RR\",\"KXP\",\"KXP\",\"field\",\"RR\"),  (\"2012\",\"Bangalore\",\"League\",\"RCB\",\"DDD\",\"DDD\",\"field\",\"RCB\"),  (\"2012\",\"Visakhapatnam\",\"League\",\"DCH\",\"CSK\",\"DCH\",\"field\",\"CSK\"),\n",
        "              (\"2012\",\"Jaipur\",\"League\",\"RR\",\"KKR\",\"KKR\",\"field\",\"RR\"),  (\"2012\",\"Pune\",\"League\",\"PW\",\"KXP\",\"PW\",\"bat\",\"PW\"),  (\"2012\",\"Visakhapatnam\",\"League\",\"DCH\",\"MI\",\"DCH\",\"bat\",\"MI\"),  (\"2012\",\"Bangalore\",\"League\",\"RCB\",\"KKR\",\"RCB\",\"field\",\"KKR\"),  (\"2012\",\"Delhi\",\"League\",\"DDD\",\"CSK\",\"DDD\",\"field\",\"DDD\"),  (\"2012\",\"Mumbai\",\"League\",\"MI\",\"RR\",\"RR\",\"field\",\"MI\"),  (\"2012\",\"Chennai\",\"League\",\"CSK\",\"RCB\",\"RCB\",\"bat\",\"CSK\"),  (\"2012\",\"Chandigarh\",\"League\",\"KXP\",\"PW\",\"KXP\",\"field\",\"KXP\"),  (\"2012\",\"Kolkata\",\"League\",\"KKR\",\"RR\",\"RR\",\"bat\",\"KKR\"),  (\"2012\",\"Pune\",\"League\",\"PW\",\"CSK\",\"CSK\",\"bat\",\"PW\"),  (\"2012\",\"Kolkata\",\"League\",\"KKR\",\"KXP\",\"KKR\",\"field\",\"KXP\"),  (\"2012\",\"Bangalore\",\"League\",\"RCB\",\"RR\",\"RR\",\"bat\",\"RR\"),  (\"2012\",\"Mumbai\",\"League\",\"MI\",\"DDD\",\"DDD\",\"field\",\"DDD\"),  (\"2012\",\"Jaipur\",\"League\",\"RR\",\"DCH\",\"DCH\",\"bat\",\"RR\"),  (\"2012\",\"Bangalore\",\"League\",\"RCB\",\"PW\",\"PW\",\"bat\",\"RCB\"),  (\"2012\",\"Chandigarh\",\"League\",\"KXP\",\"KKR\",\"KXP\",\"bat\",\"KKR\"),  (\"2012\",\"Delhi\",\"League\",\"DDD\",\"DCH\",\"DCH\",\"bat\",\"DDD\"),  (\"2012\",\"Chennai\",\"League\",\"CSK\",\"PW\",\"PW\",\"field\",\"CSK\"),  (\"2012\",\"Chandigarh\",\"League\",\"KXP\",\"RCB\",\"RCB\",\"field\",\"RCB\"),  (\"2012\",\"Chennai\",\"League\",\"CSK\",\"RR\",\"RR\",\"bat\",\"CSK\"),  (\"2012\",\"Delhi\",\"League\",\"DDD\",\"PW\",\"DDD\",\"field\",\"PW\"),  (\"2012\",\"Mumbai\",\"League\",\"MI\",\"KXP\",\"MI\",\"bat\",\"KXP\"),  (\"2012\",\"Cuttack\",\"League\",\"DCH\",\"KKR\",\"KKR\",\"field\",\"KKR\"),  (\"2012\",\"Jaipur\",\"League\",\"RR\",\"RCB\",\"RR\",\"field\",\"RCB\"),  (\"2012\",\"Pune\",\"League\",\"PW\",\"DDD\",\"PW\",\"bat\",\"DDD\"),  (\"2012\",\"Chandigarh\",\"League\",\"KXP\",\"MI\",\"KXP\",\"bat\",\"MI\"),  (\"2012\",\"Pune\",\"League\",\"PW\",\"DCH\",\"DCH\",\"bat\",\"DCH\"),  (\"2012\",\"Delhi\",\"League\",\"DDD\",\"MI\",\"MI\",\"field\",\"DDD\"),  (\"2012\",\"Chennai\",\"League\",\"CSK\",\"KXP\",\"KXP\",\"bat\",\"KXP\"),  (\"2012\",\"Kolkata\",\"League\",\"KKR\",\"RCB\",\"KKR\",\"bat\",\"KKR\"),  (\"2012\",\"Delhi\",\"League\",\"DDD\",\"RR\",\"DDD\",\"bat\",\"DDD\"),  (\"2012\",\"Mumbai\",\"League\",\"MI\",\"DCH\",\"MI\",\"field\",\"MI\"),  (\"2012\",\"Chennai\",\"League\",\"CSK\",\"KKR\",\"CSK\",\"bat\",\"KKR\"),  (\"2012\",\"Cuttack\",\"League\",\"DCH\",\"PW\",\"DCH\",\"bat\",\"DCH\"),  (\"2012\",\"Jaipur\",\"League\",\"RR\",\"DDD\",\"RR\",\"bat\",\"DDD\"),  (\"2012\",\"Bangalore\",\"League\",\"RCB\",\"KXP\",\"KXP\",\"field\",\"KXP\"),  (\"2012\",\"Pune\",\"League\",\"PW\",\"MI\",\"MI\",\"bat\",\"MI\"),  (\"2012\",\"Chennai\",\"League\",\"CSK\",\"DCH\",\"CSK\",\"bat\",\"CSK\"),  (\"2012\",\"Kolkata\",\"League\",\"KKR\",\"PW\",\"KKR\",\"bat\",\"KKR\"),  (\"2012\",\"Chandigarh\",\"League\",\"KXP\",\"RR\",\"RR\",\"bat\",\"RR\"),  (\"2012\",\"Mumbai\",\"League\",\"MI\",\"CSK\",\"MI\",\"field\",\"MI\"),  (\"2012\",\"Bangalore\",\"League\",\"RCB\",\"DCH\",\"RCB\",\"field\",\"RCB\"),  (\"2012\",\"Delhi\",\"League\",\"DDD\",\"KKR\",\"DDD\",\"bat\",\"KKR\"),  (\"2012\",\"Pune\",\"League\",\"PW\",\"RR\",\"PW\",\"bat\",\"RR\"),  (\"2012\",\"Hyderabad\",\"League\",\"DCH\",\"KXP\",\"DCH\",\"field\",\"KXP\"),  (\"2012\",\"Mumbai\",\"League\",\"MI\",\"RCB\",\"RCB\",\"field\",\"RCB\"),  (\"2012\",\"Hyderabad\",\"League\",\"DCH\",\"DDD\",\"DCH\",\"bat\",\"DDD\"),  (\"2012\",\"Jaipur\",\"League\",\"RR\",\"CSK\",\"CSK\",\"field\",\"CSK\"),  (\"2012\",\"Pune\",\"League\",\"PW\",\"RCB\",\"PW\",\"field\",\"RCB\"),  (\"2012\",\"Kolkata\",\"League\",\"KKR\",\"MI\",\"MI\",\"bat\",\"MI\"),  (\"2012\",\"Chennai\",\"League\",\"CSK\",\"DDD\",\"CSK\",\"field\",\"CSK\"),  (\"2012\",\"Jaipur\",\"League\",\"RR\",\"PW\",\"RR\",\"bat\",\"RR\"),  (\"2012\",\"Chandigarh\",\"League\",\"KXP\",\"DCH\",\"DCH\",\"bat\",\"KXP\"),  (\"2012\",\"Bangalore\",\"League\",\"RCB\",\"MI\",\"MI\",\"field\",\"MI\"),  (\"2012\",\"Kolkata\",\"League\",\"KKR\",\"CSK\",\"CSK\",\"field\",\"CSK\"),  (\"2012\",\"Delhi\",\"League\",\"DDD\",\"KXP\",\"KXP\",\"bat\",\"DDD\"),  (\"2012\",\"Mumbai\",\"League\",\"MI\",\"KKR\",\"MI\",\"field\",\"KKR\"),  (\"2012\",\"Dharamsala\",\"League\",\"KXP\",\"CSK\",\"KXP\",\"field\",\"KXP\"),  (\"2012\",\"Delhi\",\"League\",\"DDD\",\"RCB\",\"DDD\",\"field\",\"RCB\"),  (\"2012\",\"Hyderabad\",\"League\",\"DCH\",\"RR\",\"RR\",\"bat\",\"DCH\"),  (\"2012\",\"Dharamsala\",\"League\",\"KXP\",\"DDD\",\"DDD\",\"field\",\"DDD\"),  (\"2012\",\"Pune\",\"League\",\"PW\",\"KKR\",\"KKR\",\"bat\",\"KKR\"),  (\"2012\",\"Hyderabad\",\"League\",\"DCH\",\"RCB\",\"RCB\",\"field\",\"DCH\"),  (\"2012\",\"Jaipur\",\"League\",\"RR\",\"MI\",\"RR\",\"bat\",\"MI\"),  (\"2012\",\"Pune\",\"Qualifier 1\",\"DDD\",\"KKR\",\"KKR\",\"bat\",\"KKR\"),  (\"2012\",\"Bangalore\",\"Elimination Final\",\"CSK\",\"MI\",\"MI\",\"field\",\"CSK\"),  (\"2012\",\"Chennai\",\"Qualifier 2\",\"DDD\",\"CSK\",\"DDD\",\"field\",\"CSK\"),  (\"2012\",\"Chennai\",\"Final\",\"KKR\",\"CSK\",\"CSK\",\"bat\",\"KKR\"),  (\"2013\",\"Kolkata\",\"League\",\"KKR\",\"DDD\",\"KKR\",\"field\",\"KKR\"),  (\"2013\",\"Bangalore\",\"League\",\"RCB\",\"MI\",\"MI\",\"field\",\"RCB\"),  (\"2013\",\"Hyderabad\",\"League\",\"SRH\",\"PW\",\"PW\",\"field\",\"SRH\"),  (\"2013\",\"Delhi\",\"League\",\"DDD\",\"RR\",\"RR\",\"bat\",\"RR\"),  (\"2013\",\"Chennai\",\"League\",\"CSK\",\"MI\",\"MI\",\"bat\",\"MI\"),  (\"2013\",\"Pune\",\"League\",\"PW\",\"KXP\",\"PW\",\"bat\",\"KXP\"),  (\"2013\",\"Hyderabad\",\"League\",\"SRH\",\"RCB\",\"RCB\",\"bat\",\"SRH\"),  (\"2013\",\"Jaipur\",\"League\",\"RR\",\"KKR\",\"KKR\",\"field\",\"RR\"),  (\"2013\",\"Mumbai\",\"League\",\"MI\",\"DDD\",\"MI\",\"bat\",\"MI\"),  (\"2013\",\"Bangalore\",\"League\",\"RCB\",\"SRH\",\"SRH\",\"bat\",\"RCB\"),  (\"2013\",\"Chandigarh\",\"League\",\"KXP\",\"CSK\",\"CSK\",\"field\",\"CSK\"),  (\"2013\",\"Bangalore\",\"League\",\"RCB\",\"KKR\",\"RCB\",\"field\",\"RCB\"),  (\"2013\",\"Pune\",\"League\",\"PW\",\"RR\",\"RR\",\"bat\",\"PW\"),  (\"2013\",\"Delhi\",\"League\",\"DDD\",\"SRH\",\"DDD\",\"bat\",\"SRH\"),  (\"2013\",\"Mumbai\",\"League\",\"MI\",\"PW\",\"MI\",\"bat\",\"MI\"),  (\"2013\",\"Chennai\",\"League\",\"CSK\",\"RCB\",\"CSK\",\"field\",\"CSK\"),  (\"2013\",\"Kolkata\",\"League\",\"KKR\",\"SRH\",\"KKR\",\"bat\",\"KKR\"),  (\"2013\",\"Jaipur\",\"League\",\"RR\",\"KXP\",\"RR\",\"field\",\"RR\"),\n",
        "              (\"2013\",\"Chennai\",\"League\",\"CSK\",\"PW\",\"PW\",\"bat\",\"PW\"),  (\"2013\",\"Chandigarh\",\"League\",\"KXP\",\"KKR\",\"KKR\",\"field\",\"KXP\"),  (\"2013\",\"Bangalore\",\"League\",\"RCB\",\"DDD\",\"RCB\",\"field\",\"RCB\"),  (\"2013\",\"Pune\",\"League\",\"PW\",\"SRH\",\"PW\",\"field\",\"SRH\"),  (\"2013\",\"Jaipur\",\"League\",\"RR\",\"MI\",\"RR\",\"bat\",\"RR\"),  (\"2013\",\"Delhi\",\"League\",\"DDD\",\"CSK\",\"CSK\",\"bat\",\"CSK\"),  (\"2013\",\"Hyderabad\",\"League\",\"SRH\",\"KXP\",\"KXP\",\"bat\",\"SRH\"),  (\"2013\",\"Kolkata\",\"League\",\"KKR\",\"CSK\",\"KKR\",\"bat\",\"CSK\"),  (\"2013\",\"Bangalore\",\"League\",\"RCB\",\"RR\",\"RCB\",\"field\",\"RCB\"),  (\"2013\",\"Delhi\",\"League\",\"DDD\",\"MI\",\"MI\",\"bat\",\"DDD\"),  (\"2013\",\"Chandigarh\",\"League\",\"KXP\",\"PW\",\"KXP\",\"field\",\"KXP\"),  (\"2013\",\"Chennai\",\"League\",\"CSK\",\"RR\",\"RR\",\"bat\",\"CSK\"),  (\"2013\",\"Bangalore\",\"League\",\"RCB\",\"PW\",\"PW\",\"field\",\"RCB\"),  (\"2013\",\"Delhi\",\"League\",\"DDD\",\"KXP\",\"KXP\",\"field\",\"KXP\"),  (\"2013\",\"Kolkata\",\"League\",\"KKR\",\"MI\",\"KKR\",\"bat\",\"MI\"),  (\"2013\",\"Chennai\",\"League\",\"CSK\",\"SRH\",\"SRH\",\"bat\",\"CSK\"),  (\"2013\",\"Kolkata\",\"League\",\"KKR\",\"KXP\",\"KXP\",\"bat\",\"KKR\"),  (\"2013\",\"Jaipur\",\"League\",\"RR\",\"SRH\",\"SRH\",\"bat\",\"RR\"),  (\"2013\",\"Mumbai\",\"League\",\"MI\",\"RCB\",\"MI\",\"bat\",\"MI\"),  (\"2013\",\"Chennai\",\"League\",\"CSK\",\"KKR\",\"KKR\",\"field\",\"CSK\"),  (\"2013\",\"Raipur\",\"League\",\"DDD\",\"PW\",\"PW\",\"field\",\"DDD\"),  (\"2013\",\"Jaipur\",\"League\",\"RR\",\"RCB\",\"RR\",\"field\",\"RR\"),  (\"2013\",\"Mumbai\",\"League\",\"MI\",\"KXP\",\"MI\",\"bat\",\"MI\"),  (\"2013\",\"Pune\",\"League\",\"PW\",\"CSK\",\"CSK\",\"bat\",\"CSK\"),  (\"2013\",\"Hyderabad\",\"League\",\"SRH\",\"MI\",\"MI\",\"bat\",\"SRH\"),  (\"2013\",\"Raipur\",\"League\",\"DDD\",\"KKR\",\"KKR\",\"bat\",\"DDD\"),  (\"2013\",\"Chennai\",\"League\",\"CSK\",\"KXP\",\"CSK\",\"bat\",\"CSK\"),  (\"2013\",\"Pune\",\"League\",\"PW\",\"RCB\",\"RCB\",\"bat\",\"RCB\"),  (\"2013\",\"Kolkata\",\"League\",\"KKR\",\"RR\",\"RR\",\"bat\",\"KKR\"),  (\"2013\",\"Hyderabad\",\"League\",\"SRH\",\"DDD\",\"DDD\",\"bat\",\"SRH\"),  (\"2013\",\"Mumbai\",\"League\",\"MI\",\"CSK\",\"MI\",\"bat\",\"MI\"),  (\"2013\",\"Jaipur\",\"League\",\"RR\",\"PW\",\"PW\",\"bat\",\"RR\"),  (\"2013\",\"Chandigarh\",\"League\",\"KXP\",\"RCB\",\"KXP\",\"field\",\"KXP\"),  (\"2013\",\"Jaipur\",\"League\",\"RR\",\"DDD\",\"DDD\",\"bat\",\"RR\"),  (\"2013\",\"Mumbai\",\"League\",\"MI\",\"KKR\",\"MI\",\"bat\",\"MI\"),  (\"2013\",\"Hyderabad\",\"League\",\"SRH\",\"CSK\",\"SRH\",\"field\",\"CSK\"),  (\"2013\",\"Chandigarh\",\"League\",\"KXP\",\"RR\",\"RR\",\"field\",\"RR\"),  (\"2013\",\"Pune\",\"League\",\"PW\",\"KKR\",\"KKR\",\"bat\",\"KKR\"),  (\"2013\",\"Delhi\",\"League\",\"DDD\",\"RCB\",\"DDD\",\"field\",\"RCB\"),  (\"2013\",\"Pune\",\"League\",\"PW\",\"MI\",\"PW\",\"bat\",\"MI\"),  (\"2013\",\"Chandigarh\",\"League\",\"KXP\",\"SRH\",\"KXP\",\"field\",\"SRH\"),  (\"2013\",\"Ranchi\",\"League\",\"KKR\",\"RCB\",\"KKR\",\"field\",\"KKR\"),  (\"2013\",\"Jaipur\",\"League\",\"RR\",\"CSK\",\"RR\",\"field\",\"RR\"),  (\"2013\",\"Mumbai\",\"League\",\"MI\",\"SRH\",\"SRH\",\"bat\",\"MI\"),  (\"2013\",\"Bangalore\",\"League\",\"RCB\",\"KXP\",\"KXP\",\"field\",\"KXP\"),  (\"2013\",\"Chennai\",\"League\",\"CSK\",\"DDD\",\"CSK\",\"bat\",\"CSK\"),  (\"2013\",\"Ranchi\",\"League\",\"KKR\",\"PW\",\"KKR\",\"field\",\"PW\"),  (\"2013\",\"Mumbai\",\"League\",\"MI\",\"RR\",\"RR\",\"field\",\"MI\"),  (\"2013\",\"Dharamsala\",\"League\",\"KXP\",\"DDD\",\"DDD\",\"field\",\"KXP\"),  (\"2013\",\"Hyderabad\",\"League\",\"SRH\",\"RR\",\"SRH\",\"bat\",\"SRH\"),  (\"2013\",\"Dharamsala\",\"League\",\"KXP\",\"MI\",\"MI\",\"field\",\"KXP\"),  (\"2013\",\"Bangalore\",\"League\",\"RCB\",\"CSK\",\"CSK\",\"field\",\"RCB\"),  (\"2013\",\"Pune\",\"League\",\"PW\",\"DDD\",\"PW\",\"bat\",\"PW\"),  (\"2013\",\"Hyderabad\",\"League\",\"SRH\",\"KKR\",\"KKR\",\"bat\",\"SRH\"),  (\"2013\",\"Delhi\",\"Qualifier 1\",\"CSK\",\"MI\",\"CSK\",\"bat\",\"CSK\"),  (\"2013\",\"Delhi\",\"Eliminator\",\"RR\",\"SRH\",\"SRH\",\"bat\",\"RR\"),  (\"2013\",\"Kolkata\",\"Qualifier 2\",\"MI\",\"RR\",\"RR\",\"bat\",\"MI\"),  (\"2013\",\"Kolkata\",\"Final\",\"CSK\",\"MI\",\"MI\",\"bat\",\"MI\"),  (\"2014\",\"Abu Dhabi\",\"League\",\"MI\",\"KKR\",\"KKR\",\"bat\",\"KKR\"),  (\"2014\",\"NA\",\"League\",\"DDD\",\"RCB\",\"RCB\",\"field\",\"RCB\"),  (\"2014\",\"Abu Dhabi\",\"League\",\"CSK\",\"KXP\",\"CSK\",\"bat\",\"KXP\"),  (\"2014\",\"Abu Dhabi\",\"League\",\"SRH\",\"RR\",\"RR\",\"field\",\"RR\"),  (\"2014\",\"NA\",\"League\",\"RCB\",\"MI\",\"RCB\",\"field\",\"RCB\"),  (\"2014\",\"NA\",\"League\",\"KKR\",\"DDD\",\"KKR\",\"bat\",\"DDD\"),  (\"2014\",\"NA\",\"League\",\"RR\",\"KXP\",\"KXP\",\"field\",\"KXP\"),  (\"2014\",\"Abu Dhabi\",\"League\",\"CSK\",\"DDD\",\"CSK\",\"bat\",\"CSK\"),  (\"2014\",\"NA\",\"League\",\"KXP\",\"SRH\",\"SRH\",\"field\",\"KXP\"),  (\"2014\",\"NA\",\"League\",\"RR\",\"CSK\",\"RR\",\"field\",\"CSK\"),  (\"2014\",\"NA\",\"League\",\"RCB\",\"KKR\",\"RCB\",\"field\",\"KKR\"),  (\"2014\",\"NA\",\"League\",\"SRH\",\"DDD\",\"SRH\",\"bat\",\"SRH\"),  (\"2014\",\"NA\",\"League\",\"CSK\",\"MI\",\"MI\",\"bat\",\"CSK\"),  (\"2014\",\"Abu Dhabi\",\"League\",\"RR\",\"RCB\",\"RR\",\"field\",\"RR\"),  (\"2014\",\"Abu Dhabi\",\"League\",\"KKR\",\"KXP\",\"KKR\",\"field\",\"KXP\"),  (\"2014\",\"NA\",\"League\",\"DDD\",\"MI\",\"MI\",\"bat\",\"DDD\"),  (\"2014\",\"NA\",\"League\",\"SRH\",\"CSK\",\"SRH\",\"bat\",\"CSK\"),  (\"2014\",\"NA\",\"League\",\"KXP\",\"RCB\",\"KXP\",\"field\",\"KXP\"),  (\"2014\",\"Abu Dhabi\",\"League\",\"KKR\",\"RR\",\"RR\",\"bat\",\"RR\"),  (\"2014\",\"NA\",\"League\",\"MI\",\"SRH\",\"MI\",\"field\",\"SRH\"),  (\"2014\",\"Ranchi\",\"League\",\"CSK\",\"KKR\",\"CSK\",\"bat\",\"CSK\"),  (\"2014\",\"Mumbai\",\"League\",\"MI\",\"KXP\",\"KXP\",\"bat\",\"MI\"),  (\"2014\",\"Delhi\",\"League\",\"DDD\",\"RR\",\"RR\",\"field\",\"RR\"),  (\"2014\",\"Bangalore\",\"League\",\"RCB\",\"SRH\",\"RCB\",\"field\",\"RCB\"),  (\"2014\",\"Ahmedabad\",\"League\",\"RR\",\"KKR\",\"KKR\",\"field\",\"RR\"),  (\"2014\",\"Delhi\",\"League\",\"DDD\",\"CSK\",\"CSK\",\"field\",\"CSK\"),  (\"2014\",\"Mumbai\",\"League\",\"MI\",\"RCB\",\"RCB\",\"field\",\"MI\"),  (\"2014\",\"Delhi\",\"League\",\"DDD\",\"KKR\",\"DDD\",\"bat\",\"KKR\"),\n",
        "              (\"2014\",\"Cuttack\",\"League\",\"KXP\",\"CSK\",\"CSK\",\"field\",\"KXP\"),  (\"2014\",\"Ahmedabad\",\"League\",\"RR\",\"SRH\",\"RR\",\"field\",\"SRH\"),  (\"2014\",\"Bangalore\",\"League\",\"RCB\",\"KXP\",\"RCB\",\"field\",\"KXP\"),  (\"2014\",\"Delhi\",\"League\",\"DDD\",\"SRH\",\"SRH\",\"field\",\"SRH\"),  (\"2014\",\"Mumbai\",\"League\",\"MI\",\"CSK\",\"CSK\",\"field\",\"CSK\"),  (\"2014\",\"Cuttack\",\"League\",\"KXP\",\"KKR\",\"KKR\",\"field\",\"KKR\"),  (\"2014\",\"Bangalore\",\"League\",\"RCB\",\"RR\",\"RCB\",\"bat\",\"RR\"),  (\"2014\",\"Hyderabad\",\"League\",\"SRH\",\"MI\",\"SRH\",\"bat\",\"MI\"),  (\"2014\",\"Ranchi\",\"League\",\"CSK\",\"RR\",\"RR\",\"bat\",\"CSK\"),  (\"2014\",\"Bangalore\",\"League\",\"RCB\",\"DDD\",\"DDD\",\"field\",\"RCB\"),  (\"2014\",\"Hyderabad\",\"League\",\"SRH\",\"KXP\",\"KXP\",\"field\",\"KXP\"),  (\"2014\",\"Cuttack\",\"League\",\"KKR\",\"MI\",\"KKR\",\"field\",\"KKR\"),  (\"2014\",\"Ahmedabad\",\"League\",\"RR\",\"DDD\",\"DDD\",\"field\",\"RR\"),  (\"2014\",\"Ranchi\",\"League\",\"CSK\",\"RCB\",\"CSK\",\"bat\",\"RCB\"),  (\"2014\",\"Hyderabad\",\"League\",\"SRH\",\"KKR\",\"SRH\",\"bat\",\"KKR\"),  (\"2014\",\"Ahmedabad\",\"League\",\"RR\",\"MI\",\"MI\",\"bat\",\"MI\"),  (\"2014\",\"Delhi\",\"League\",\"DDD\",\"KXP\",\"KXP\",\"field\",\"KXP\"),  (\"2014\",\"Hyderabad\",\"League\",\"SRH\",\"RCB\",\"RCB\",\"bat\",\"SRH\"),  (\"2014\",\"Kolkata\",\"League\",\"KKR\",\"CSK\",\"KKR\",\"field\",\"KKR\"),  (\"2014\",\"Chandigarh\",\"League\",\"KXP\",\"MI\",\"MI\",\"field\",\"MI\"),  (\"2014\",\"Kolkata\",\"League\",\"KKR\",\"RCB\",\"RCB\",\"field\",\"KKR\"),  (\"2014\",\"Ranchi\",\"League\",\"CSK\",\"SRH\",\"SRH\",\"field\",\"SRH\"),  (\"2014\",\"Mumbai\",\"League\",\"MI\",\"DDD\",\"DDD\",\"field\",\"MI\"),  (\"2014\",\"Chandigarh\",\"League\",\"KXP\",\"RR\",\"RR\",\"field\",\"KXP\"),  (\"2014\",\"Bangalore\",\"League\",\"RCB\",\"CSK\",\"CSK\",\"field\",\"CSK\"),  (\"2014\",\"Kolkata\",\"League\",\"KKR\",\"SRH\",\"KKR\",\"field\",\"KKR\"),  (\"2014\",\"Chandigarh\",\"League\",\"KXP\",\"DDD\",\"KXP\",\"field\",\"KXP\"),  (\"2014\",\"Mumbai\",\"League\",\"MI\",\"RR\",\"MI\",\"field\",\"MI\"),  (\"2014\",\"Kolkata\",\"Qualifier 1\",\"KXP\",\"KKR\",\"KXP\",\"field\",\"KKR\"),  (\"2014\",\"Mumbai\",\"Eliminator\",\"CSK\",\"MI\",\"CSK\",\"field\",\"CSK\"),  (\"2014\",\"Mumbai\",\"Qualifier 2\",\"CSK\",\"KXP\",\"CSK\",\"field\",\"KXP\"),  (\"2014\",\"Bangalore\",\"Final\",\"KKR\",\"KXP\",\"KKR\",\"field\",\"KKR\"),  (\"2015\",\"Kolkata\",\"League\",\"KKR\",\"MI\",\"KKR\",\"field\",\"KKR\"),  (\"2015\",\"Chennai\",\"League\",\"CSK\",\"DDD\",\"DDD\",\"field\",\"CSK\"),  (\"2015\",\"Pune\",\"League\",\"KXP\",\"RR\",\"KXP\",\"field\",\"RR\"),  (\"2015\",\"Chennai\",\"League\",\"CSK\",\"SRH\",\"CSK\",\"bat\",\"CSK\"),  (\"2015\",\"Kolkata\",\"League\",\"KKR\",\"RCB\",\"RCB\",\"field\",\"RCB\"),  (\"2015\",\"Delhi\",\"League\",\"DDD\",\"RR\",\"RR\",\"field\",\"RR\"),  (\"2015\",\"Mumbai\",\"League\",\"MI\",\"KXP\",\"MI\",\"field\",\"KXP\"),  (\"2015\",\"Bangalore\",\"League\",\"RCB\",\"SRH\",\"SRH\",\"field\",\"SRH\"),  (\"2015\",\"Ahmedabad\",\"League\",\"RR\",\"MI\",\"MI\",\"bat\",\"RR\"),  (\"2015\",\"Pune\",\"League\",\"KXP\",\"DDD\",\"KXP\",\"bat\",\"DDD\"),  (\"2015\",\"Visakhapatnam\",\"League\",\"SRH\",\"RR\",\"RR\",\"field\",\"RR\"),  (\"2015\",\"Mumbai\",\"League\",\"MI\",\"CSK\",\"MI\",\"bat\",\"CSK\"),  (\"2015\",\"Visakhapatnam\",\"League\",\"SRH\",\"DDD\",\"DDD\",\"bat\",\"DDD\"),  (\"2015\",\"Pune\",\"League\",\"KXP\",\"KKR\",\"KKR\",\"field\",\"KKR\"),  (\"2015\",\"Ahmedabad\",\"League\",\"RR\",\"CSK\",\"CSK\",\"bat\",\"RR\"),  (\"2015\",\"Bangalore\",\"League\",\"RCB\",\"MI\",\"RCB\",\"field\",\"MI\"),  (\"2015\",\"Delhi\",\"League\",\"DDD\",\"KKR\",\"KKR\",\"field\",\"KKR\"),  (\"2015\",\"Ahmedabad\",\"League\",\"RR\",\"KXP\",\"KXP\",\"field\",\"KXP\"),  (\"2015\",\"Visakhapatnam\",\"League\",\"SRH\",\"KKR\",\"KKR\",\"field\",\"SRH\"),  (\"2015\",\"Bangalore\",\"League\",\"RCB\",\"CSK\",\"RCB\",\"field\",\"CSK\"),  (\"2015\",\"Delhi\",\"League\",\"DDD\",\"MI\",\"MI\",\"field\",\"DDD\"),  (\"2015\",\"Ahmedabad\",\"League\",\"RR\",\"RCB\",\"RCB\",\"field\",\"RCB\"),  (\"2015\",\"Mumbai\",\"League\",\"MI\",\"SRH\",\"MI\",\"bat\",\"MI\"),  (\"2015\",\"Chennai\",\"League\",\"CSK\",\"KXP\",\"CSK\",\"bat\",\"CSK\"),  (\"2015\",\"Delhi\",\"League\",\"DDD\",\"RCB\",\"RCB\",\"field\",\"RCB\"),  (\"2015\",\"Chandigarh\",\"League\",\"KXP\",\"SRH\",\"KXP\",\"field\",\"SRH\"),  (\"2015\",\"Chennai\",\"League\",\"CSK\",\"KKR\",\"KKR\",\"field\",\"CSK\"),  (\"2015\",\"Bangalore\",\"League\",\"RCB\",\"RR\",\"RR\",\"field\",\"NA\"),  (\"2015\",\"Kolkata\",\"League\",\"KKR\",\"CSK\",\"KKR\",\"field\",\"KKR\"),  (\"2015\",\"Delhi\",\"League\",\"DDD\",\"KXP\",\"DDD\",\"field\",\"DDD\"),  (\"2015\",\"Mumbai\",\"League\",\"MI\",\"RR\",\"RR\",\"field\",\"MI\"),  (\"2015\",\"Bangalore\",\"League\",\"RCB\",\"KKR\",\"RCB\",\"field\",\"RCB\"),  (\"2015\",\"Hyderabad\",\"League\",\"SRH\",\"CSK\",\"CSK\",\"field\",\"SRH\"),  (\"2015\",\"Chandigarh\",\"League\",\"KXP\",\"MI\",\"MI\",\"bat\",\"MI\"),  (\"2015\",\"Mumbai\",\"League\",\"RR\",\"DDD\",\"DDD\",\"field\",\"RR\"),  (\"2015\",\"Chennai\",\"League\",\"CSK\",\"RCB\",\"CSK\",\"bat\",\"CSK\"),  (\"2015\",\"Kolkata\",\"League\",\"KKR\",\"SRH\",\"SRH\",\"field\",\"KKR\"),  (\"2015\",\"Mumbai\",\"League\",\"MI\",\"DDD\",\"DDD\",\"bat\",\"MI\"),  (\"2015\",\"Bangalore\",\"League\",\"RCB\",\"KXP\",\"KXP\",\"field\",\"RCB\"),  (\"2015\",\"Kolkata\",\"League\",\"KKR\",\"DDD\",\"KKR\",\"bat\",\"KKR\"),  (\"2015\",\"Mumbai\",\"League\",\"RR\",\"SRH\",\"RR\",\"field\",\"SRH\"),  (\"2015\",\"Chennai\",\"League\",\"CSK\",\"MI\",\"CSK\",\"bat\",\"MI\"),  (\"2015\",\"Kolkata\",\"League\",\"KKR\",\"KXP\",\"KXP\",\"bat\",\"KKR\"),  (\"2015\",\"Raipur\",\"League\",\"DDD\",\"SRH\",\"SRH\",\"bat\",\"SRH\"),  (\"2015\",\"Mumbai\",\"League\",\"MI\",\"RCB\",\"RCB\",\"bat\",\"RCB\"),  (\"2015\",\"Chennai\",\"League\",\"CSK\",\"RR\",\"CSK\",\"bat\",\"CSK\"),  (\"2015\",\"Hyderabad\",\"League\",\"SRH\",\"KXP\",\"SRH\",\"bat\",\"SRH\"),  (\"2015\",\"Raipur\",\"League\",\"DDD\",\"CSK\",\"CSK\",\"bat\",\"DDD\"),  (\"2015\",\"Chandigarh\",\"League\",\"KXP\",\"RCB\",\"RCB\",\"field\",\"KXP\"),  (\"2015\",\"Mumbai\",\"League\",\"MI\",\"KKR\",\"KKR\",\"field\",\"MI\"),  (\"2015\",\"Hyderabad\",\"League\",\"SRH\",\"RCB\",\"SRH\",\"bat\",\"RCB\"),  (\"2015\",\"Chandigarh\",\"League\",\"KXP\",\"CSK\",\"KXP\",\"bat\",\"CSK\"),  (\"2015\",\"Mumbai\",\"League\",\"RR\",\"KKR\",\"RR\",\"bat\",\"RR\"),  (\"2015\",\"Bangalore\",\"League\",\"RCB\",\"DDD\",\"RCB\",\"field\",\"NA\"),\n",
        "              (\"2015\",\"Hyderabad\",\"League\",\"SRH\",\"MI\",\"SRH\",\"bat\",\"MI\"),  (\"2015\",\"Mumbai\",\"Qualifier 1\",\"CSK\",\"MI\",\"MI\",\"bat\",\"MI\"),  (\"2015\",\"Pune\",\"Eliminator\",\"RCB\",\"RR\",\"RCB\",\"bat\",\"RCB\"),  (\"2015\",\"Ranchi\",\"Qualifier 2\",\"CSK\",\"RCB\",\"CSK\",\"field\",\"CSK\"),  (\"2015\",\"Kolkata\",\"Final\",\"MI\",\"CSK\",\"CSK\",\"field\",\"MI\"),  (\"2016\",\"Mumbai\",\"League\",\"MI\",\"RPS\",\"MI\",\"bat\",\"RPS\"),  (\"2016\",\"Kolkata\",\"League\",\"KKR\",\"DDD\",\"KKR\",\"field\",\"KKR\"),  (\"2016\",\"Chandigarh\",\"League\",\"KXP\",\"GL\",\"GL\",\"field\",\"GL\"),  (\"2016\",\"Bangalore\",\"League\",\"RCB\",\"SRH\",\"SRH\",\"field\",\"RCB\"),  (\"2016\",\"Kolkata\",\"League\",\"KKR\",\"MI\",\"MI\",\"field\",\"MI\"),  (\"2016\",\"Rajkot\",\"League\",\"GL\",\"RPS\",\"RPS\",\"bat\",\"GL\"),  (\"2016\",\"Delhi\",\"League\",\"DDD\",\"KXP\",\"DDD\",\"field\",\"DDD\"),  (\"2016\",\"Hyderabad\",\"League\",\"SRH\",\"KKR\",\"SRH\",\"bat\",\"KKR\"),  (\"2016\",\"Mumbai\",\"League\",\"MI\",\"GL\",\"GL\",\"field\",\"GL\"),  (\"2016\",\"Chandigarh\",\"League\",\"KXP\",\"RPS\",\"RPS\",\"bat\",\"KXP\"),  (\"2016\",\"Bangalore\",\"League\",\"RCB\",\"DDD\",\"DDD\",\"field\",\"DDD\"),  (\"2016\",\"Hyderabad\",\"League\",\"SRH\",\"MI\",\"SRH\",\"field\",\"SRH\"),  (\"2016\",\"Chandigarh\",\"League\",\"KXP\",\"KKR\",\"KKR\",\"field\",\"KKR\"),  (\"2016\",\"Mumbai\",\"League\",\"MI\",\"RCB\",\"MI\",\"field\",\"MI\"),  (\"2016\",\"Rajkot\",\"League\",\"GL\",\"SRH\",\"SRH\",\"field\",\"SRH\"),  (\"2016\",\"Pune\",\"League\",\"RPS\",\"RCB\",\"RPS\",\"field\",\"RCB\"),  (\"2016\",\"Delhi\",\"League\",\"DDD\",\"MI\",\"MI\",\"field\",\"DDD\"),  (\"2016\",\"Hyderabad\",\"League\",\"SRH\",\"KXP\",\"SRH\",\"field\",\"SRH\"),  (\"2016\",\"Rajkot\",\"League\",\"GL\",\"RCB\",\"RCB\",\"bat\",\"GL\"),  (\"2016\",\"Pune\",\"League\",\"RPS\",\"KKR\",\"KKR\",\"field\",\"KKR\"),  (\"2016\",\"Chandigarh\",\"League\",\"KXP\",\"MI\",\"KXP\",\"field\",\"MI\"),  (\"2016\",\"Hyderabad\",\"League\",\"SRH\",\"RPS\",\"RPS\",\"field\",\"RPS\"),  (\"2016\",\"Delhi\",\"League\",\"DDD\",\"GL\",\"DDD\",\"field\",\"GL\"),  (\"2016\",\"Mumbai\",\"League\",\"MI\",\"KKR\",\"MI\",\"field\",\"MI\"),  (\"2016\",\"Pune\",\"League\",\"RPS\",\"GL\",\"GL\",\"field\",\"GL\"),  (\"2016\",\"Delhi\",\"League\",\"DDD\",\"KKR\",\"KKR\",\"field\",\"DDD\"),  (\"2016\",\"Hyderabad\",\"League\",\"SRH\",\"RCB\",\"RCB\",\"field\",\"SRH\"),  (\"2016\",\"Rajkot\",\"League\",\"GL\",\"KXP\",\"GL\",\"field\",\"KXP\"),  (\"2016\",\"Pune\",\"League\",\"RPS\",\"MI\",\"MI\",\"field\",\"MI\"),  (\"2016\",\"Bangalore\",\"League\",\"RCB\",\"KKR\",\"KKR\",\"field\",\"KKR\"),  (\"2016\",\"Rajkot\",\"League\",\"GL\",\"DDD\",\"DDD\",\"field\",\"DDD\"),  (\"2016\",\"Kolkata\",\"League\",\"KKR\",\"KXP\",\"KXP\",\"field\",\"KKR\"),  (\"2016\",\"Delhi\",\"League\",\"DDD\",\"RPS\",\"RPS\",\"field\",\"RPS\"),  (\"2016\",\"Hyderabad\",\"League\",\"SRH\",\"GL\",\"SRH\",\"field\",\"SRH\"),  (\"2016\",\"Bangalore\",\"League\",\"RCB\",\"RPS\",\"RCB\",\"field\",\"RCB\"),  (\"2016\",\"Chandigarh\",\"League\",\"KXP\",\"DDD\",\"DDD\",\"field\",\"KXP\"),  (\"2016\",\"Visakhapatnam\",\"League\",\"MI\",\"SRH\",\"MI\",\"field\",\"SRH\"),  (\"2016\",\"Kolkata\",\"League\",\"KKR\",\"GL\",\"GL\",\"field\",\"GL\"),  (\"2016\",\"Chandigarh\",\"League\",\"KXP\",\"RCB\",\"KXP\",\"field\",\"RCB\"),  (\"2016\",\"Visakhapatnam\",\"League\",\"RPS\",\"SRH\",\"SRH\",\"bat\",\"SRH\"),  (\"2016\",\"Bangalore\",\"League\",\"RCB\",\"MI\",\"MI\",\"field\",\"MI\"),  (\"2016\",\"Hyderabad\",\"League\",\"SRH\",\"DDD\",\"DDD\",\"field\",\"DDD\"),  (\"2016\",\"Visakhapatnam\",\"League\",\"MI\",\"KXP\",\"MI\",\"bat\",\"KXP\"),  (\"2016\",\"Bangalore\",\"League\",\"RCB\",\"GL\",\"GL\",\"field\",\"RCB\"),  (\"2016\",\"Kolkata\",\"League\",\"KKR\",\"RPS\",\"RPS\",\"bat\",\"KKR\"),  (\"2016\",\"Chandigarh\",\"League\",\"KXP\",\"SRH\",\"KXP\",\"bat\",\"SRH\"),  (\"2016\",\"Visakhapatnam\",\"League\",\"MI\",\"DDD\",\"DDD\",\"field\",\"MI\"),  (\"2016\",\"Kolkata\",\"League\",\"KKR\",\"RCB\",\"RCB\",\"field\",\"RCB\"),  (\"2016\",\"Visakhapatnam\",\"League\",\"RPS\",\"DDD\",\"RPS\",\"field\",\"RPS\"),  (\"2016\",\"Bangalore\",\"League\",\"RCB\",\"KXP\",\"KXP\",\"field\",\"RCB\"),  (\"2016\",\"Kanpur\",\"League\",\"GL\",\"KKR\",\"GL\",\"field\",\"GL\"),  (\"2016\",\"Raipur\",\"League\",\"DDD\",\"SRH\",\"DDD\",\"field\",\"DDD\"),  (\"2016\",\"Visakhapatnam\",\"League\",\"RPS\",\"KXP\",\"KXP\",\"bat\",\"RPS\"),  (\"2016\",\"Kanpur\",\"League\",\"GL\",\"MI\",\"GL\",\"field\",\"GL\"),  (\"2016\",\"Kolkata\",\"League\",\"KKR\",\"SRH\",\"SRH\",\"field\",\"KKR\"),  (\"2016\",\"Raipur\",\"League\",\"DDD\",\"RCB\",\"RCB\",\"field\",\"RCB\"),  (\"2016\",\"Bangalore\",\"Qualifier 1\",\"GL\",\"RCB\",\"RCB\",\"field\",\"RCB\"),  (\"2016\",\"Delhi\",\"Elimination Final\",\"SRH\",\"KKR\",\"KKR\",\"field\",\"SRH\"),  (\"2016\",\"Delhi\",\"Qualifier 2\",\"GL\",\"SRH\",\"SRH\",\"field\",\"SRH\"),  (\"2016\",\"Bangalore\",\"Final\",\"RCB\",\"SRH\",\"SRH\",\"bat\",\"SRH\"),  (\"2017\",\"Hyderabad\",\"League\",\"SRH\",\"RCB\",\"RCB\",\"field\",\"SRH\"),  (\"2017\",\"Pune\",\"League\",\"RPS\",\"MI\",\"RPS\",\"field\",\"RPS\"),  (\"2017\",\"Rajkot\",\"League\",\"GL\",\"KKR\",\"KKR\",\"field\",\"KKR\"),  (\"2017\",\"Indore\",\"League\",\"KXP\",\"RPS\",\"KXP\",\"field\",\"KXP\"),  (\"2017\",\"Bengaluru\",\"League\",\"RCB\",\"DDD\",\"RCB\",\"bat\",\"RCB\"),  (\"2017\",\"Hyderabad\",\"League\",\"SRH\",\"GL\",\"SRH\",\"field\",\"SRH\"),  (\"2017\",\"Mumbai\",\"League\",\"MI\",\"KKR\",\"MI\",\"field\",\"MI\"),  (\"2017\",\"Indore\",\"League\",\"KXP\",\"RCB\",\"RCB\",\"bat\",\"KXP\"),  (\"2017\",\"Pune\",\"League\",\"RPS\",\"DDD\",\"RPS\",\"field\",\"DDD\"),  (\"2017\",\"Mumbai\",\"League\",\"MI\",\"SRH\",\"MI\",\"field\",\"MI\"),  (\"2017\",\"Kolkata\",\"League\",\"KKR\",\"KXP\",\"KKR\",\"field\",\"KKR\"),  (\"2017\",\"Bangalore\",\"League\",\"RCB\",\"MI\",\"MI\",\"field\",\"MI\"),  (\"2017\",\"Rajkot\",\"League\",\"GL\",\"RPS\",\"GL\",\"field\",\"GL\"),  (\"2017\",\"Kolkata\",\"League\",\"KKR\",\"SRH\",\"SRH\",\"field\",\"KKR\"),  (\"2017\",\"Delhi\",\"League\",\"DDD\",\"KXP\",\"DDD\",\"bat\",\"DDD\"),  (\"2017\",\"Mumbai\",\"League\",\"MI\",\"GL\",\"MI\",\"field\",\"MI\"),  (\"2017\",\"Bangalore\",\"League\",\"RCB\",\"RPS\",\"RCB\",\"field\",\"RPS\"),  (\"2017\",\"Delhi\",\"League\",\"DDD\",\"KKR\",\"DDD\",\"bat\",\"KKR\"),  (\"2017\",\"Hyderabad\",\"League\",\"SRH\",\"KXP\",\"KXP\",\"field\",\"SRH\"),  (\"2017\",\"Rajkot\",\"League\",\"GL\",\"RCB\",\"GL\",\"field\",\"RCB\"),  (\"2017\",\"Hyderabad\",\"League\",\"SRH\",\"DDD\",\"SRH\",\"bat\",\"SRH\"),\n",
        "              (\"2017\",\"Indore\",\"League\",\"KXP\",\"MI\",\"MI\",\"field\",\"MI\"),  (\"2017\",\"Kolkata\",\"League\",\"KKR\",\"GL\",\"GL\",\"field\",\"GL\"),  (\"2017\",\"Mumbai\",\"League\",\"MI\",\"DDD\",\"DDD\",\"field\",\"MI\"),  (\"2017\",\"Pune\",\"League\",\"RPS\",\"SRH\",\"RPS\",\"field\",\"RPS\"),  (\"2017\",\"Rajkot\",\"League\",\"GL\",\"KXP\",\"GL\",\"field\",\"KXP\"),  (\"2017\",\"Kolkata\",\"League\",\"KKR\",\"RCB\",\"RCB\",\"field\",\"KKR\"),  (\"2017\",\"Mumbai\",\"League\",\"MI\",\"RPS\",\"MI\",\"field\",\"RPS\"),  (\"2017\",\"Pune\",\"League\",\"RPS\",\"KKR\",\"KKR\",\"field\",\"KKR\"),  (\"2017\",\"Bangalore\",\"League\",\"RCB\",\"GL\",\"GL\",\"field\",\"GL\"),  (\"2017\",\"Kolkata\",\"League\",\"KKR\",\"DDD\",\"KKR\",\"field\",\"KKR\"),  (\"2017\",\"Chandigarh\",\"League\",\"KXP\",\"SRH\",\"KXP\",\"field\",\"SRH\"),  (\"2017\",\"Pune\",\"League\",\"RPS\",\"RCB\",\"RCB\",\"field\",\"RPS\"),  (\"2017\",\"Rajkot\",\"League\",\"GL\",\"MI\",\"GL\",\"bat\",\"MI\"),  (\"2017\",\"Chandigarh\",\"League\",\"KXP\",\"DDD\",\"KXP\",\"field\",\"KXP\"),  (\"2017\",\"Hyderabad\",\"League\",\"SRH\",\"KKR\",\"KKR\",\"field\",\"SRH\"),  (\"2017\",\"Mumbai\",\"League\",\"MI\",\"RCB\",\"RCB\",\"bat\",\"MI\"),  (\"2017\",\"Pune\",\"League\",\"RPS\",\"GL\",\"RPS\",\"field\",\"RPS\"),  (\"2017\",\"Delhi\",\"League\",\"DDD\",\"SRH\",\"DDD\",\"field\",\"DDD\"),  (\"2017\",\"Kolkata\",\"League\",\"KKR\",\"RPS\",\"RPS\",\"field\",\"RPS\"),  (\"2017\",\"Delhi\",\"League\",\"DDD\",\"GL\",\"DDD\",\"field\",\"DDD\"),  (\"2017\",\"Bangalore\",\"League\",\"RCB\",\"KXP\",\"RCB\",\"field\",\"KXP\"),  (\"2017\",\"Hyderabad\",\"League\",\"SRH\",\"RPS\",\"SRH\",\"field\",\"RPS\"),  (\"2017\",\"Delhi\",\"League\",\"DDD\",\"MI\",\"DDD\",\"field\",\"MI\"),  (\"2017\",\"Bangalore\",\"League\",\"RCB\",\"KKR\",\"KKR\",\"field\",\"KKR\"),  (\"2017\",\"Chandigarh\",\"League\",\"KXP\",\"GL\",\"GL\",\"field\",\"GL\"),  (\"2017\",\"Hyderabad\",\"League\",\"SRH\",\"MI\",\"MI\",\"bat\",\"SRH\"),  (\"2017\",\"Chandigarh\",\"League\",\"KXP\",\"KKR\",\"KKR\",\"field\",\"KXP\"),  (\"2017\",\"Kanpur\",\"League\",\"GL\",\"DDD\",\"DDD\",\"field\",\"DDD\"),  (\"2017\",\"Mumbai\",\"League\",\"MI\",\"KXP\",\"MI\",\"field\",\"KXP\"),  (\"2017\",\"Delhi\",\"League\",\"DDD\",\"RPS\",\"DDD\",\"bat\",\"DDD\"),  (\"2017\",\"Kanpur\",\"League\",\"GL\",\"SRH\",\"SRH\",\"field\",\"SRH\"),  (\"2017\",\"Kolkata\",\"League\",\"KKR\",\"MI\",\"KKR\",\"field\",\"MI\"),  (\"2017\",\"Pune\",\"League\",\"RPS\",\"KXP\",\"RPS\",\"field\",\"RPS\"),  (\"2017\",\"Delhi\",\"League\",\"DDD\",\"RCB\",\"RCB\",\"bat\",\"RCB\"),  (\"2017\",\"Mumbai\",\"Qualifier 1\",\"MI\",\"RPS\",\"MI\",\"field\",\"RPS\"),  (\"2017\",\"Bangalore\",\"Eliminator\",\"SRH\",\"KKR\",\"KKR\",\"field\",\"KKR\"),  (\"2017\",\"Bangalore\",\"Qualifier 2\",\"MI\",\"KKR\",\"MI\",\"field\",\"MI\"),  (\"2017\",\"Hyderabad\",\"Final\",\"MI\",\"RPS\",\"MI\",\"bat\",\"MI\"),  (\"2018\",\"Mumbai\",\"League\",\"MI\",\"CSK\",\"CSK\",\"field\",\"CSK\"),  (\"2018\",\"Chandigarh\",\"League\",\"DDD\",\"KXP\",\"KXP\",\"field\",\"KXP\"),  (\"2018\",\"Kolkata\",\"League\",\"RCB\",\"KKR\",\"KKR\",\"field\",\"KKR\"),  (\"2018\",\"Hyderabad\",\"League\",\"RR\",\"SRH\",\"SRH\",\"field\",\"SRH\"),  (\"2018\",\"Chennai\",\"League\",\"KKR\",\"CSK\",\"CSK\",\"field\",\"CSK\"),  (\"2018\",\"Jaipur\",\"League\",\"RR\",\"DDD\",\"DDD\",\"field\",\"RR\"),  (\"2018\",\"Hyderabad\",\"League\",\"MI\",\"SRH\",\"SRH\",\"field\",\"SRH\"),  (\"2018\",\"Bengaluru\",\"League\",\"KXP\",\"RCB\",\"RCB\",\"field\",\"RCB\"),  (\"2018\",\"Mumbai\",\"League\",\"MI\",\"DDD\",\"DDD\",\"field\",\"DDD\"),  (\"2018\",\"Kolkata\",\"League\",\"KKR\",\"SRH\",\"SRH\",\"field\",\"SRH\"),  (\"2018\",\"Bengaluru\",\"League\",\"RR\",\"RCB\",\"RCB\",\"field\",\"RR\"),  (\"2018\",\"Chandigarh\",\"League\",\"KXP\",\"CSK\",\"CSK\",\"field\",\"KXP\"),  (\"2018\",\"Kolkata\",\"League\",\"KKR\",\"DDD\",\"DDD\",\"field\",\"KKR\"),  (\"2018\",\"Mumbai\",\"League\",\"MI\",\"RCB\",\"RCB\",\"field\",\"MI\"),  (\"2018\",\"Jaipur\",\"League\",\"RR\",\"KKR\",\"KKR\",\"field\",\"KKR\"),  (\"2018\",\"Chandigarh\",\"League\",\"KXP\",\"SRH\",\"KXP\",\"bat\",\"KXP\"),  (\"2018\",\"Pune\",\"League\",\"CSK\",\"RR\",\"RR\",\"field\",\"CSK\"),  (\"2018\",\"Kolkata\",\"League\",\"KKR\",\"KXP\",\"KXP\",\"field\",\"KXP\"),  (\"2018\",\"Bengaluru\",\"League\",\"DDD\",\"RCB\",\"RCB\",\"field\",\"RCB\"),  (\"2018\",\"Hyderabad\",\"League\",\"CSK\",\"SRH\",\"SRH\",\"field\",\"CSK\"),  (\"2018\",\"Jaipur\",\"League\",\"MI\",\"RR\",\"MI\",\"bat\",\"RR\"),  (\"2018\",\"Delhi\",\"League\",\"KXP\",\"DDD\",\"DDD\",\"field\",\"KXP\"),  (\"2018\",\"Mumbai\",\"League\",\"SRH\",\"MI\",\"MI\",\"field\",\"SRH\"),  (\"2018\",\"Bengaluru\",\"League\",\"RCB\",\"CSK\",\"CSK\",\"field\",\"CSK\"),  (\"2018\",\"Hyderabad\",\"League\",\"SRH\",\"KXP\",\"KXP\",\"field\",\"SRH\"),  (\"2018\",\"Delhi\",\"League\",\"DDD\",\"KKR\",\"KKR\",\"field\",\"DDD\"),  (\"2018\",\"Pune\",\"League\",\"CSK\",\"MI\",\"MI\",\"field\",\"MI\"),  (\"2018\",\"Jaipur\",\"League\",\"SRH\",\"RR\",\"SRH\",\"bat\",\"SRH\"),  (\"2018\",\"Bengaluru\",\"League\",\"RCB\",\"KKR\",\"KKR\",\"field\",\"KKR\"),  (\"2018\",\"Pune\",\"League\",\"CSK\",\"DDD\",\"DDD\",\"field\",\"CSK\"),  (\"2018\",\"Bengaluru\",\"League\",\"RCB\",\"MI\",\"MI\",\"field\",\"RCB\"),  (\"2018\",\"Delhi\",\"League\",\"DDD\",\"RR\",\"RR\",\"field\",\"DDD\"),  (\"2018\",\"Kolkata\",\"League\",\"CSK\",\"KKR\",\"KKR\",\"field\",\"KKR\"),  (\"2018\",\"Indore\",\"League\",\"KXP\",\"MI\",\"MI\",\"field\",\"MI\"),  (\"2018\",\"Pune\",\"League\",\"RCB\",\"CSK\",\"CSK\",\"field\",\"CSK\"),  (\"2018\",\"Hyderabad\",\"League\",\"DDD\",\"SRH\",\"DDD\",\"bat\",\"SRH\"),  (\"2018\",\"Mumbai\",\"League\",\"MI\",\"KKR\",\"KKR\",\"field\",\"MI\"),  (\"2018\",\"Indore\",\"League\",\"RR\",\"KXP\",\"KXP\",\"field\",\"KXP\"),  (\"2018\",\"Hyderabad\",\"League\",\"SRH\",\"RCB\",\"RCB\",\"field\",\"SRH\"),  (\"2018\",\"Jaipur\",\"League\",\"RR\",\"KXP\",\"RR\",\"bat\",\"RR\"),  (\"2018\",\"Kolkata\",\"League\",\"MI\",\"KKR\",\"KKR\",\"field\",\"MI\"),  (\"2018\",\"Delhi\",\"League\",\"DDD\",\"SRH\",\"DDD\",\"bat\",\"SRH\"),  (\"2018\",\"Jaipur\",\"League\",\"CSK\",\"RR\",\"CSK\",\"bat\",\"RR\"),  (\"2018\",\"Indore\",\"League\",\"KKR\",\"KXP\",\"KXP\",\"field\",\"KKR\"),  (\"2018\",\"Delhi\",\"League\",\"DDD\",\"RCB\",\"RCB\",\"field\",\"RCB\"),  (\"2018\",\"Pune\",\"League\",\"SRH\",\"CSK\",\"CSK\",\"field\",\"CSK\"),  (\"2018\",\"Mumbai\",\"League\",\"MI\",\"RR\",\"RR\",\"field\",\"RR\"),  (\"2018\",\"Indore\",\"League\",\"KXP\",\"RCB\",\"RCB\",\"field\",\"RCB\"),\n",
        "              (\"2018\",\"Kolkata\",\"League\",\"RR\",\"KKR\",\"KKR\",\"field\",\"KKR\"),  (\"2018\",\"Mumbai\",\"League\",\"MI\",\"KXP\",\"KXP\",\"field\",\"MI\"),  (\"2018\",\"Bengaluru\",\"League\",\"RCB\",\"SRH\",\"SRH\",\"field\",\"RCB\"),  (\"2018\",\"Delhi\",\"League\",\"DDD\",\"CSK\",\"CSK\",\"field\",\"DDD\"),  (\"2018\",\"Jaipur\",\"League\",\"RR\",\"RCB\",\"RR\",\"bat\",\"RR\"),  (\"2018\",\"Hyderabad\",\"League\",\"SRH\",\"KKR\",\"SRH\",\"bat\",\"KKR\"),  (\"2018\",\"Delhi\",\"League\",\"DDD\",\"MI\",\"DDD\",\"bat\",\"DDD\"),  (\"2018\",\"Pune\",\"League\",\"KXP\",\"CSK\",\"CSK\",\"field\",\"CSK\"),  (\"2018\",\"Mumbai\",\"Qualifier 1\",\"SRH\",\"CSK\",\"CSK\",\"field\",\"CSK\"),  (\"2018\",\"Kolkata\",\"Eliminator\",\"KKR\",\"RR\",\"RR\",\"field\",\"KKR\"),  (\"2018\",\"Kolkata\",\"Qualifier 2\",\"SRH\",\"KKR\",\"KKR\",\"field\",\"SRH\"),  (\"2018\",\"Mumbai\",\"Final\",\"SRH\",\"CSK\",\"CSK\",\"field\",\"CSK\"),  (\"2019\",\"Chennai\",\"League\",\"RCB\",\"CSK\",\"CSK\",\"field\",\"CSK\"),  (\"2019\",\"Kolkata\",\"League\",\"SRH\",\"KKR\",\"KKR\",\"field\",\"KKR\"),  (\"2019\",\"Mumbai\",\"League\",\"DCP\",\"MI\",\"MI\",\"field\",\"DCP\"),  (\"2019\",\"Jaipur\",\"League\",\"KXP\",\"RR\",\"RR\",\"field\",\"KXP\"),  (\"2019\",\"Delhi\",\"League\",\"DCP\",\"CSK\",\"DCP\",\"bat\",\"CSK\"),  (\"2019\",\"Kolkata\",\"League\",\"KKR\",\"KXP\",\"KXP\",\"field\",\"KKR\"),  (\"2019\",\"Bengaluru\",\"League\",\"MI\",\"RCB\",\"RCB\",\"field\",\"MI\"),  (\"2019\",\"Hyderabad\",\"League\",\"RR\",\"SRH\",\"RR\",\"bat\",\"SRH\"),  (\"2019\",\"Chandigarh\",\"League\",\"MI\",\"KXP\",\"KXP\",\"field\",\"KXP\"),  (\"2019\",\"Delhi\",\"League\",\"KKR\",\"DCP\",\"DCP\",\"field\",\"DCP\"),  (\"2019\",\"Hyderabad\",\"League\",\"SRH\",\"RCB\",\"RCB\",\"field\",\"SRH\"),  (\"2019\",\"Chennai\",\"League\",\"CSK\",\"RR\",\"RR\",\"field\",\"CSK\"),  (\"2019\",\"Chandigarh\",\"League\",\"KXP\",\"DCP\",\"DCP\",\"field\",\"KXP\"),  (\"2019\",\"Jaipur\",\"League\",\"RCB\",\"RR\",\"RR\",\"field\",\"RR\"),  (\"2019\",\"Mumbai\",\"League\",\"MI\",\"CSK\",\"CSK\",\"field\",\"MI\"),  (\"2019\",\"Delhi\",\"League\",\"DCP\",\"SRH\",\"SRH\",\"field\",\"SRH\"),  (\"2019\",\"Bengaluru\",\"League\",\"RCB\",\"KKR\",\"KKR\",\"field\",\"KKR\"),  (\"2019\",\"Chennai\",\"League\",\"CSK\",\"KXP\",\"CSK\",\"bat\",\"CSK\"),  (\"2019\",\"Hyderabad\",\"League\",\"MI\",\"SRH\",\"SRH\",\"field\",\"MI\"),  (\"2019\",\"Bengaluru\",\"League\",\"RCB\",\"DCP\",\"DCP\",\"field\",\"DCP\"),  (\"2019\",\"Jaipur\",\"League\",\"RR\",\"KKR\",\"KKR\",\"field\",\"KKR\"),  (\"2019\",\"Chandigarh\",\"League\",\"SRH\",\"KXP\",\"KXP\",\"field\",\"KXP\"),  (\"2019\",\"Chennai\",\"League\",\"KKR\",\"CSK\",\"CSK\",\"field\",\"CSK\"),  (\"2019\",\"Mumbai\",\"League\",\"KXP\",\"MI\",\"MI\",\"field\",\"MI\"),  (\"2019\",\"Jaipur\",\"League\",\"RR\",\"CSK\",\"CSK\",\"field\",\"CSK\"),  (\"2019\",\"Kolkata\",\"League\",\"KKR\",\"DCP\",\"DCP\",\"field\",\"DCP\"),  (\"2019\",\"Mumbai\",\"League\",\"MI\",\"RR\",\"RR\",\"field\",\"RR\"),  (\"2019\",\"Chandigarh\",\"League\",\"KXP\",\"RCB\",\"RCB\",\"field\",\"RCB\"),  (\"2019\",\"Kolkata\",\"League\",\"KKR\",\"CSK\",\"CSK\",\"field\",\"CSK\"),  (\"2019\",\"Hyderabad\",\"League\",\"DCP\",\"SRH\",\"SRH\",\"field\",\"DCP\"),  (\"2019\",\"Mumbai\",\"League\",\"RCB\",\"MI\",\"MI\",\"field\",\"MI\"),  (\"2019\",\"Chandigarh\",\"League\",\"KXP\",\"RR\",\"RR\",\"field\",\"KXP\"),  (\"2019\",\"Hyderabad\",\"League\",\"CSK\",\"SRH\",\"CSK\",\"bat\",\"SRH\"),  (\"2019\",\"Delhi\",\"League\",\"MI\",\"DCP\",\"MI\",\"bat\",\"MI\"),  (\"2019\",\"Kolkata\",\"League\",\"RCB\",\"KKR\",\"KKR\",\"field\",\"RCB\"),  (\"2019\",\"Jaipur\",\"League\",\"MI\",\"RR\",\"RR\",\"field\",\"RR\"),  (\"2019\",\"Delhi\",\"League\",\"KXP\",\"DCP\",\"DCP\",\"field\",\"DCP\"),  (\"2019\",\"Hyderabad\",\"League\",\"KKR\",\"SRH\",\"SRH\",\"field\",\"SRH\"),  (\"2019\",\"Bengaluru\",\"League\",\"RCB\",\"CSK\",\"CSK\",\"field\",\"RCB\"),  (\"2019\",\"Jaipur\",\"League\",\"RR\",\"DCP\",\"DCP\",\"field\",\"DCP\"),  (\"2019\",\"Chennai\",\"League\",\"SRH\",\"CSK\",\"CSK\",\"field\",\"CSK\"),  (\"2019\",\"Bengaluru\",\"League\",\"RCB\",\"KXP\",\"KXP\",\"field\",\"RCB\"),  (\"2019\",\"Kolkata\",\"League\",\"KKR\",\"RR\",\"RR\",\"field\",\"RR\"),  (\"2019\",\"Chennai\",\"League\",\"MI\",\"CSK\",\"CSK\",\"field\",\"MI\"),  (\"2019\",\"Jaipur\",\"League\",\"SRH\",\"RR\",\"RR\",\"field\",\"RR\"),  (\"2019\",\"Delhi\",\"League\",\"DCP\",\"RCB\",\"DCP\",\"bat\",\"DCP\"),  (\"2019\",\"Kolkata\",\"League\",\"KKR\",\"MI\",\"MI\",\"field\",\"KKR\"),  (\"2019\",\"Hyderabad\",\"League\",\"SRH\",\"KXP\",\"KXP\",\"field\",\"SRH\"),  (\"2019\",\"Bengaluru\",\"League\",\"RCB\",\"RR\",\"RR\",\"field\",\"NA\"),  (\"2019\",\"Chennai\",\"League\",\"CSK\",\"DCP\",\"DCP\",\"field\",\"CSK\"),  (\"2019\",\"Mumbai\",\"League\",\"MI\",\"SRH\",\"MI\",\"bat\",\"MI\"),  (\"2019\",\"Chandigarh\",\"League\",\"KXP\",\"KKR\",\"KKR\",\"field\",\"KKR\"),  (\"2019\",\"Delhi\",\"League\",\"RR\",\"DCP\",\"RR\",\"bat\",\"DCP\"),  (\"2019\",\"Bengaluru\",\"League\",\"SRH\",\"RCB\",\"RCB\",\"field\",\"RCB\"),  (\"2019\",\"Chandigarh\",\"League\",\"CSK\",\"KXP\",\"KXP\",\"field\",\"KXP\"),  (\"2019\",\"Mumbai\",\"League\",\"KKR\",\"MI\",\"MI\",\"field\",\"MI\"),  (\"2019\",\"Chennai\",\"Qualifier 1\",\"CSK\",\"MI\",\"CSK\",\"bat\",\"MI\"),  (\"2019\",\"Visakhapatnam\",\"Eliminator\",\"SRH\",\"DCP\",\"DCP\",\"field\",\"DCP\"),  (\"2019\",\"Visakhapatnam\",\"Qualifier 2\",\"DCP\",\"CSK\",\"CSK\",\"field\",\"CSK\"),  (\"2019\",\"Hyderabad\",\"Final\",\"MI\",\"CSK\",\"MI\",\"bat\",\"MI\"),  (\"2020/21\",\"Abu Dhabi\",\"League\",\"MI\",\"CSK\",\"CSK\",\"field\",\"CSK\"),  (\"2020/21\",\"NA\",\"League\",\"DCP\",\"KXP\",\"KXP\",\"field\",\"DCP\"),  (\"2020/21\",\"NA\",\"League\",\"RCB\",\"SRH\",\"SRH\",\"field\",\"RCB\"),  (\"2020/21\",\"NA\",\"League\",\"RR\",\"CSK\",\"CSK\",\"field\",\"RR\"),  (\"2020/21\",\"Abu Dhabi\",\"League\",\"MI\",\"KKR\",\"KKR\",\"field\",\"MI\"),  (\"2020/21\",\"NA\",\"League\",\"KXP\",\"RCB\",\"RCB\",\"field\",\"KXP\"),  (\"2020/21\",\"NA\",\"League\",\"DCP\",\"CSK\",\"CSK\",\"field\",\"DCP\"),  (\"2020/21\",\"Abu Dhabi\",\"League\",\"SRH\",\"KKR\",\"SRH\",\"bat\",\"KKR\"),  (\"2020/21\",\"NA\",\"League\",\"KXP\",\"RR\",\"RR\",\"field\",\"RR\"),  (\"2020/21\",\"NA\",\"League\",\"RCB\",\"MI\",\"MI\",\"field\",\"RCB\"),  (\"2020/21\",\"Abu Dhabi\",\"League\",\"SRH\",\"DCP\",\"DCP\",\"field\",\"SRH\"),  (\"2020/21\",\"NA\",\"League\",\"KKR\",\"RR\",\"RR\",\"field\",\"KKR\"),  (\"2020/21\",\"Abu Dhabi\",\"League\",\"MI\",\"KXP\",\"KXP\",\"field\",\"MI\"),  (\"2020/21\",\"NA\",\"League\",\"SRH\",\"CSK\",\"SRH\",\"bat\",\"SRH\"),\n",
        "              (\"2020/21\",\"Abu Dhabi\",\"League\",\"RR\",\"RCB\",\"RR\",\"bat\",\"RCB\"),  (\"2020/21\",\"NA\",\"League\",\"DCP\",\"KKR\",\"KKR\",\"field\",\"DCP\"),  (\"2020/21\",\"NA\",\"League\",\"KXP\",\"CSK\",\"KXP\",\"bat\",\"CSK\"),  (\"2020/21\",\"NA\",\"League\",\"MI\",\"SRH\",\"MI\",\"bat\",\"MI\"),  (\"2020/21\",\"NA\",\"League\",\"DCP\",\"RCB\",\"RCB\",\"field\",\"DCP\"),  (\"2020/21\",\"Abu Dhabi\",\"League\",\"MI\",\"RR\",\"MI\",\"bat\",\"MI\"),  (\"2020/21\",\"Abu Dhabi\",\"League\",\"KKR\",\"CSK\",\"KKR\",\"bat\",\"KKR\"),  (\"2020/21\",\"NA\",\"League\",\"SRH\",\"KXP\",\"SRH\",\"bat\",\"SRH\"),  (\"2020/21\",\"NA\",\"League\",\"DCP\",\"RR\",\"RR\",\"field\",\"DCP\"),  (\"2020/21\",\"Abu Dhabi\",\"League\",\"KKR\",\"KXP\",\"KKR\",\"bat\",\"KKR\"),  (\"2020/21\",\"NA\",\"League\",\"RCB\",\"CSK\",\"RCB\",\"bat\",\"RCB\"),  (\"2020/21\",\"NA\",\"League\",\"SRH\",\"RR\",\"SRH\",\"bat\",\"RR\"),  (\"2020/21\",\"Abu Dhabi\",\"League\",\"DCP\",\"MI\",\"DCP\",\"bat\",\"MI\"),  (\"2020/21\",\"NA\",\"League\",\"RCB\",\"KKR\",\"RCB\",\"bat\",\"RCB\"),  (\"2020/21\",\"NA\",\"League\",\"CSK\",\"SRH\",\"CSK\",\"bat\",\"CSK\"),  (\"2020/21\",\"NA\",\"League\",\"DCP\",\"RR\",\"DCP\",\"bat\",\"DCP\"),  (\"2020/21\",\"NA\",\"League\",\"RCB\",\"KXP\",\"RCB\",\"bat\",\"KXP\"),  (\"2020/21\",\"Abu Dhabi\",\"League\",\"KKR\",\"MI\",\"KKR\",\"bat\",\"MI\"),  (\"2020/21\",\"NA\",\"League\",\"CSK\",\"DCP\",\"CSK\",\"bat\",\"DCP\"),  (\"2020/21\",\"NA\",\"League\",\"RR\",\"RCB\",\"RR\",\"bat\",\"RCB\"),  (\"2020/21\",\"Abu Dhabi\",\"League\",\"KKR\",\"SRH\",\"SRH\",\"field\",\"KKR\"),  (\"2020/21\",\"NA\",\"League\",\"MI\",\"KXP\",\"MI\",\"bat\",\"KXP\"),  (\"2020/21\",\"Abu Dhabi\",\"League\",\"CSK\",\"RR\",\"CSK\",\"bat\",\"RR\"),  (\"2020/21\",\"NA\",\"League\",\"DCP\",\"KXP\",\"DCP\",\"bat\",\"KXP\"),  (\"2020/21\",\"Abu Dhabi\",\"League\",\"KKR\",\"RCB\",\"KKR\",\"bat\",\"RCB\"),  (\"2020/21\",\"NA\",\"League\",\"RR\",\"SRH\",\"SRH\",\"field\",\"SRH\"),  (\"2020/21\",\"NA\",\"League\",\"CSK\",\"MI\",\"MI\",\"field\",\"MI\"),  (\"2020/21\",\"Abu Dhabi\",\"League\",\"KKR\",\"DCP\",\"DCP\",\"field\",\"KKR\"),  (\"2020/21\",\"NA\",\"League\",\"KXP\",\"SRH\",\"SRH\",\"field\",\"KXP\"),  (\"2020/21\",\"Abu Dhabi\",\"League\",\"MI\",\"RR\",\"MI\",\"bat\",\"RR\"),  (\"2020/21\",\"NA\",\"League\",\"RCB\",\"CSK\",\"RCB\",\"bat\",\"CSK\"),  (\"2020/21\",\"NA\",\"League\",\"KKR\",\"KXP\",\"KXP\",\"field\",\"KXP\"),  (\"2020/21\",\"NA\",\"League\",\"SRH\",\"DCP\",\"DCP\",\"field\",\"SRH\"),  (\"2020/21\",\"Abu Dhabi\",\"League\",\"RCB\",\"MI\",\"MI\",\"field\",\"MI\"),  (\"2020/21\",\"NA\",\"League\",\"KKR\",\"CSK\",\"CSK\",\"field\",\"CSK\"),  (\"2020/21\",\"Abu Dhabi\",\"League\",\"KXP\",\"RR\",\"RR\",\"field\",\"RR\"),  (\"2020/21\",\"NA\",\"League\",\"RCB\",\"SRH\",\"SRH\",\"field\",\"SRH\"),  (\"2020/21\",\"NA\",\"League\",\"DCP\",\"MI\",\"MI\",\"field\",\"MI\"),  (\"2020/21\",\"Abu Dhabi\",\"League\",\"KXP\",\"CSK\",\"CSK\",\"field\",\"CSK\"),  (\"2020/21\",\"NA\",\"League\",\"KKR\",\"RR\",\"RR\",\"field\",\"KKR\"),  (\"2020/21\",\"Abu Dhabi\",\"League\",\"RCB\",\"DCP\",\"DCP\",\"field\",\"DCP\"),  (\"2020/21\",\"NA\",\"League\",\"MI\",\"SRH\",\"SRH\",\"field\",\"SRH\"),  (\"2020/21\",\"NA\",\"Qualifier 1\",\"MI\",\"DCP\",\"DCP\",\"field\",\"MI\"),  (\"2020/21\",\"Abu Dhabi\",\"Eliminator\",\"RCB\",\"SRH\",\"SRH\",\"field\",\"SRH\"),  (\"2020/21\",\"Abu Dhabi\",\"Qualifier 2\",\"DCP\",\"SRH\",\"DCP\",\"bat\",\"DCP\"),  (\"2020/21\",\"NA\",\"Final\",\"DCP\",\"MI\",\"DCP\",\"bat\",\"MI\"),  (\"2021\",\"Chennai\",\"League\",\"MI\",\"RCB\",\"RCB\",\"field\",\"RCB\"),  (\"2021\",\"Mumbai\",\"League\",\"CSK\",\"DCP\",\"DCP\",\"field\",\"DCP\"),  (\"2021\",\"Chennai\",\"League\",\"KKR\",\"SRH\",\"SRH\",\"field\",\"KKR\"),  (\"2021\",\"Mumbai\",\"League\",\"PK\",\"RR\",\"RR\",\"field\",\"PK\"),  (\"2021\",\"Chennai\",\"League\",\"MI\",\"KKR\",\"KKR\",\"field\",\"MI\"),  (\"2021\",\"Chennai\",\"League\",\"RCB\",\"SRH\",\"SRH\",\"field\",\"RCB\"),  (\"2021\",\"Mumbai\",\"League\",\"DCP\",\"RR\",\"RR\",\"field\",\"RR\"),  (\"2021\",\"Mumbai\",\"League\",\"PK\",\"CSK\",\"CSK\",\"field\",\"CSK\"),  (\"2021\",\"Chennai\",\"League\",\"MI\",\"SRH\",\"MI\",\"bat\",\"MI\"),  (\"2021\",\"Chennai\",\"League\",\"RCB\",\"KKR\",\"RCB\",\"bat\",\"RCB\"),  (\"2021\",\"Mumbai\",\"League\",\"PK\",\"DCP\",\"DCP\",\"field\",\"DCP\"),  (\"2021\",\"Mumbai\",\"League\",\"CSK\",\"RR\",\"RR\",\"field\",\"CSK\"),  (\"2021\",\"Chennai\",\"League\",\"MI\",\"DCP\",\"MI\",\"bat\",\"DCP\"),  (\"2021\",\"Chennai\",\"League\",\"PK\",\"SRH\",\"PK\",\"bat\",\"SRH\"),  (\"2021\",\"Mumbai\",\"League\",\"CSK\",\"KKR\",\"KKR\",\"field\",\"CSK\"),  (\"2021\",\"Mumbai\",\"League\",\"RR\",\"RCB\",\"RCB\",\"field\",\"RCB\"),  (\"2021\",\"Chennai\",\"League\",\"MI\",\"PK\",\"PK\",\"field\",\"PK\"),  (\"2021\",\"Mumbai\",\"League\",\"KKR\",\"RR\",\"RR\",\"field\",\"RR\"),  (\"2021\",\"Mumbai\",\"League\",\"CSK\",\"RCB\",\"CSK\",\"bat\",\"CSK\"),  (\"2021\",\"Chennai\",\"League\",\"DCP\",\"SRH\",\"DCP\",\"bat\",\"DCP\"),  (\"2021\",\"Ahmedabad\",\"League\",\"PK\",\"KKR\",\"KKR\",\"field\",\"KKR\"),  (\"2021\",\"Ahmedabad\",\"League\",\"RCB\",\"DCP\",\"DCP\",\"field\",\"RCB\"),  (\"2021\",\"Delhi\",\"League\",\"SRH\",\"CSK\",\"SRH\",\"bat\",\"CSK\"),  (\"2021\",\"Delhi\",\"League\",\"RR\",\"MI\",\"MI\",\"field\",\"MI\"),  (\"2021\",\"Ahmedabad\",\"League\",\"KKR\",\"DCP\",\"DCP\",\"field\",\"DCP\"),  (\"2021\",\"Ahmedabad\",\"League\",\"PK\",\"RCB\",\"RCB\",\"field\",\"PK\"),  (\"2021\",\"Delhi\",\"League\",\"CSK\",\"MI\",\"MI\",\"field\",\"MI\"),  (\"2021\",\"Delhi\",\"League\",\"RR\",\"SRH\",\"SRH\",\"field\",\"RR\"),  (\"2021\",\"Ahmedabad\",\"League\",\"PK\",\"DCP\",\"DCP\",\"field\",\"DCP\"),  (\"2021\",\"Dubai\",\"League\",\"CSK\",\"MI\",\"CSK\",\"bat\",\"CSK\"),  (\"2021\",\"Abu Dhabi\",\"League\",\"RCB\",\"KKR\",\"RCB\",\"bat\",\"KKR\"),  (\"2021\",\"Dubai\",\"League\",\"RR\",\"PK\",\"PK\",\"field\",\"RR\"),  (\"2021\",\"Dubai\",\"League\",\"SRH\",\"DCP\",\"SRH\",\"bat\",\"DCP\"),  (\"2021\",\"Abu Dhabi\",\"League\",\"MI\",\"KKR\",\"KKR\",\"field\",\"KKR\"),  (\"2021\",\"Sharjah\",\"League\",\"RCB\",\"CSK\",\"CSK\",\"field\",\"CSK\"),  (\"2021\",\"Abu Dhabi\",\"League\",\"DCP\",\"RR\",\"RR\",\"field\",\"DCP\"),  (\"2021\",\"Sharjah\",\"League\",\"PK\",\"SRH\",\"SRH\",\"field\",\"PK\"),  (\"2021\",\"Abu Dhabi\",\"League\",\"KKR\",\"CSK\",\"KKR\",\"bat\",\"CSK\"),  (\"2021\",\"Dubai\",\"League\",\"RCB\",\"MI\",\"MI\",\"field\",\"RCB\"),  (\"2021\",\"Dubai\",\"League\",\"RR\",\"SRH\",\"RR\",\"bat\",\"SRH\"),\n",
        "              (\"2021\",\"Sharjah\",\"League\",\"DCP\",\"KKR\",\"KKR\",\"field\",\"KKR\"),  (\"2021\",\"Abu Dhabi\",\"League\",\"PK\",\"MI\",\"MI\",\"field\",\"MI\"),  (\"2021\",\"Dubai\",\"League\",\"RR\",\"RCB\",\"RCB\",\"field\",\"RCB\"),  (\"2021\",\"Sharjah\",\"League\",\"SRH\",\"CSK\",\"CSK\",\"field\",\"CSK\"),  (\"2021\",\"Dubai\",\"League\",\"KKR\",\"PK\",\"PK\",\"field\",\"PK\"),  (\"2021\",\"Abu Dhabi\",\"League\",\"CSK\",\"RR\",\"RR\",\"field\",\"RR\"),  (\"2021\",\"Sharjah\",\"League\",\"MI\",\"DCP\",\"DCP\",\"field\",\"DCP\"),  (\"2021\",\"Sharjah\",\"League\",\"RCB\",\"PK\",\"RCB\",\"bat\",\"RCB\"),  (\"2021\",\"Dubai\",\"League\",\"SRH\",\"KKR\",\"SRH\",\"bat\",\"KKR\"),  (\"2021\",\"Dubai\",\"League\",\"CSK\",\"DCP\",\"DCP\",\"field\",\"DCP\"),  (\"2021\",\"Sharjah\",\"League\",\"RR\",\"MI\",\"MI\",\"field\",\"MI\"),  (\"2021\",\"Abu Dhabi\",\"League\",\"SRH\",\"RCB\",\"RCB\",\"field\",\"SRH\"),  (\"2021\",\"Dubai\",\"League\",\"CSK\",\"PK\",\"PK\",\"field\",\"PK\"),  (\"2021\",\"Sharjah\",\"League\",\"KKR\",\"RR\",\"RR\",\"field\",\"KKR\"),  (\"2021\",\"Abu Dhabi\",\"League\",\"MI\",\"SRH\",\"MI\",\"bat\",\"MI\"),  (\"2021\",\"Dubai\",\"League\",\"DCP\",\"RCB\",\"RCB\",\"field\",\"RCB\"),  (\"2021\",\"Dubai\",\"Qualifier 1\",\"DCP\",\"CSK\",\"CSK\",\"field\",\"CSK\"),  (\"2021\",\"Sharjah\",\"Eliminator\",\"RCB\",\"KKR\",\"RCB\",\"bat\",\"KKR\"),  (\"2021\",\"Sharjah\",\"Qualifier 2\",\"DCP\",\"KKR\",\"KKR\",\"field\",\"KKR\"),  (\"2021\",\"Dubai\",\"Final\",\"CSK\",\"KKR\",\"KKR\",\"field\",\"CSK\"),  (\"2022\",\"Mumbai\",\"League\",\"CSK\",\"KKR\",\"KKR\",\"field\",\"KKR\"),  (\"2022\",\"Mumbai\",\"League\",\"MI\",\"DCP\",\"DCP\",\"field\",\"DCP\"),  (\"2022\",\"Mumbai\",\"League\",\"RCB\",\"PK\",\"PK\",\"field\",\"PK\"),  (\"2022\",\"Mumbai\",\"League\",\"LSG\",\"GT\",\"GT\",\"field\",\"GT\"),  (\"2022\",\"Pune\",\"League\",\"RR\",\"SRH\",\"SRH\",\"field\",\"RR\"),  (\"2022\",\"Mumbai\",\"League\",\"KKR\",\"RCB\",\"RCB\",\"field\",\"RCB\"),  (\"2022\",\"Mumbai\",\"League\",\"CSK\",\"LSG\",\"LSG\",\"field\",\"LSG\"),  (\"2022\",\"Mumbai\",\"League\",\"PK\",\"KKR\",\"KKR\",\"field\",\"KKR\"),  (\"2022\",\"Mumbai\",\"League\",\"RR\",\"MI\",\"MI\",\"field\",\"RR\"),  (\"2022\",\"Pune\",\"League\",\"GT\",\"DCP\",\"DCP\",\"field\",\"GT\"),  (\"2022\",\"Mumbai\",\"League\",\"PK\",\"CSK\",\"CSK\",\"field\",\"PK\"),  (\"2022\",\"Mumbai\",\"League\",\"LSG\",\"SRH\",\"SRH\",\"field\",\"LSG\"),  (\"2022\",\"Mumbai\",\"League\",\"RR\",\"RCB\",\"RCB\",\"field\",\"RCB\"),  (\"2022\",\"Pune\",\"League\",\"MI\",\"KKR\",\"KKR\",\"field\",\"KKR\"),  (\"2022\",\"Mumbai\",\"League\",\"DCP\",\"LSG\",\"LSG\",\"field\",\"LSG\"),  (\"2022\",\"Mumbai\",\"League\",\"PK\",\"GT\",\"GT\",\"field\",\"GT\"),  (\"2022\",\"Mumbai\",\"League\",\"CSK\",\"SRH\",\"SRH\",\"field\",\"SRH\"),  (\"2022\",\"Pune\",\"League\",\"MI\",\"RCB\",\"RCB\",\"field\",\"RCB\"),  (\"2022\",\"Mumbai\",\"League\",\"DCP\",\"KKR\",\"KKR\",\"field\",\"DCP\"),  (\"2022\",\"Mumbai\",\"League\",\"RR\",\"LSG\",\"LSG\",\"field\",\"RR\"),  (\"2022\",\"Mumbai\",\"League\",\"GT\",\"SRH\",\"SRH\",\"field\",\"SRH\"),  (\"2022\",\"Mumbai\",\"League\",\"CSK\",\"RCB\",\"RCB\",\"field\",\"CSK\"),  (\"2022\",\"Pune\",\"League\",\"PK\",\"MI\",\"MI\",\"field\",\"PK\"),  (\"2022\",\"Mumbai\",\"League\",\"GT\",\"RR\",\"RR\",\"field\",\"GT\"),  (\"2022\",\"Mumbai\",\"League\",\"KKR\",\"SRH\",\"SRH\",\"field\",\"SRH\"),  (\"2022\",\"Mumbai\",\"League\",\"LSG\",\"MI\",\"MI\",\"field\",\"LSG\"),  (\"2022\",\"Mumbai\",\"League\",\"RCB\",\"DCP\",\"DCP\",\"field\",\"RCB\"),  (\"2022\",\"Mumbai\",\"League\",\"PK\",\"SRH\",\"SRH\",\"field\",\"SRH\"),  (\"2022\",\"Pune\",\"League\",\"CSK\",\"GT\",\"GT\",\"field\",\"GT\"),  (\"2022\",\"Mumbai\",\"League\",\"RR\",\"KKR\",\"KKR\",\"field\",\"RR\"),  (\"2022\",\"Mumbai\",\"League\",\"RCB\",\"LSG\",\"LSG\",\"field\",\"RCB\"),  (\"2022\",\"Mumbai\",\"League\",\"PK\",\"DCP\",\"DCP\",\"field\",\"DCP\"),  (\"2022\",\"Navi Mumbai\",\"League\",\"MI\",\"CSK\",\"CSK\",\"field\",\"CSK\"),  (\"2022\",\"Mumbai\",\"League\",\"RR\",\"DCP\",\"DCP\",\"field\",\"RR\"),  (\"2022\",\"Navi Mumbai\",\"League\",\"GT\",\"KKR\",\"GT\",\"bat\",\"GT\"),  (\"2022\",\"Mumbai\",\"League\",\"RCB\",\"SRH\",\"SRH\",\"field\",\"SRH\"),  (\"2022\",\"Mumbai\",\"League\",\"LSG\",\"MI\",\"MI\",\"field\",\"LSG\"),  (\"2022\",\"Mumbai\",\"League\",\"PK\",\"CSK\",\"CSK\",\"field\",\"PK\"),  (\"2022\",\"Pune\",\"League\",\"RR\",\"RCB\",\"RCB\",\"field\",\"RR\"),  (\"2022\",\"Mumbai\",\"League\",\"SRH\",\"GT\",\"GT\",\"field\",\"GT\"),  (\"2022\",\"Mumbai\",\"League\",\"KKR\",\"DCP\",\"DCP\",\"field\",\"DCP\"),  (\"2022\",\"Pune\",\"League\",\"LSG\",\"PK\",\"PK\",\"field\",\"LSG\"),  (\"2022\",\"Mumbai\",\"League\",\"RCB\",\"GT\",\"RCB\",\"bat\",\"GT\"),  (\"2022\",\"Navi Mumbai\",\"League\",\"RR\",\"MI\",\"MI\",\"field\",\"MI\"),  (\"2022\",\"Mumbai\",\"League\",\"LSG\",\"DCP\",\"LSG\",\"bat\",\"LSG\"),  (\"2022\",\"Pune\",\"League\",\"CSK\",\"SRH\",\"SRH\",\"field\",\"CSK\"),  (\"2022\",\"Mumbai\",\"League\",\"RR\",\"KKR\",\"KKR\",\"field\",\"KKR\"),  (\"2022\",\"Navi Mumbai\",\"League\",\"GT\",\"PK\",\"GT\",\"bat\",\"PK\"),  (\"2022\",\"Pune\",\"League\",\"RCB\",\"CSK\",\"CSK\",\"field\",\"RCB\"),  (\"2022\",\"Mumbai\",\"League\",\"DCP\",\"SRH\",\"SRH\",\"field\",\"DCP\"),  (\"2022\",\"Mumbai\",\"League\",\"MI\",\"GT\",\"GT\",\"field\",\"MI\"),  (\"2022\",\"Mumbai\",\"League\",\"PK\",\"RR\",\"PK\",\"bat\",\"RR\"),  (\"2022\",\"Pune\",\"League\",\"LSG\",\"KKR\",\"KKR\",\"field\",\"LSG\"),  (\"2022\",\"Mumbai\",\"League\",\"RCB\",\"SRH\",\"RCB\",\"bat\",\"RCB\"),  (\"2022\",\"Navi Mumbai\",\"League\",\"CSK\",\"DCP\",\"DCP\",\"field\",\"CSK\"),  (\"2022\",\"Navi Mumbai\",\"League\",\"KKR\",\"MI\",\"MI\",\"field\",\"KKR\"),  (\"2022\",\"Pune\",\"League\",\"GT\",\"LSG\",\"GT\",\"bat\",\"GT\"),  (\"2022\",\"Navi Mumbai\",\"League\",\"RR\",\"DCP\",\"DCP\",\"field\",\"DCP\"),  (\"2022\",\"Mumbai\",\"League\",\"CSK\",\"MI\",\"MI\",\"field\",\"MI\"),  (\"2022\",\"Mumbai\",\"League\",\"PK\",\"RCB\",\"RCB\",\"field\",\"PK\"),  (\"2022\",\"Pune\",\"League\",\"KKR\",\"SRH\",\"KKR\",\"bat\",\"KKR\"),  (\"2022\",\"Mumbai\",\"League\",\"CSK\",\"GT\",\"CSK\",\"bat\",\"GT\"),  (\"2022\",\"Mumbai\",\"League\",\"RR\",\"LSG\",\"RR\",\"bat\",\"RR\"),  (\"2022\",\"Navi Mumbai\",\"League\",\"DCP\",\"PK\",\"PK\",\"field\",\"DCP\"),  (\"2022\",\"Mumbai\",\"League\",\"SRH\",\"MI\",\"MI\",\"field\",\"SRH\"),  (\"2022\",\"Navi Mumbai\",\"League\",\"LSG\",\"KKR\",\"LSG\",\"bat\",\"LSG\"),\n",
        "              (\"2022\",\"Mumbai\",\"League\",\"GT\",\"RCB\",\"GT\",\"bat\",\"RCB\"),  (\"2022\",\"Mumbai\",\"League\",\"CSK\",\"RR\",\"CSK\",\"bat\",\"RR\"),  (\"2022\",\"Mumbai\",\"League\",\"DCP\",\"MI\",\"MI\",\"field\",\"MI\"),  (\"2022\",\"Mumbai\",\"League\",\"SRH\",\"PK\",\"SRH\",\"bat\",\"PK\"),  (\"2022\",\"Kolkata\",\"Qualifier 1\",\"RR\",\"GT\",\"GT\",\"field\",\"GT\"),  (\"2022\",\"Kolkata\",\"Eliminator\",\"RCB\",\"LSG\",\"LSG\",\"field\",\"RCB\"),  (\"2022\",\"Ahmedabad\",\"Qualifier 2\",\"RCB\",\"RR\",\"RR\",\"field\",\"RR\"),  (\"2022\",\"Ahmedabad\",\"Final\",\"RR\",\"GT\",\"RR\",\"bat\",\"GT\"),  (\"2023\",\"Ahmedabad\",\"League\",\"CSK\",\"GT\",\"GT\",\"field\",\"GT\"),  (\"2023\",\"Chandigarh\",\"League\",\"PK\",\"KKR\",\"KKR\",\"field\",\"PK\"),  (\"2023\",\"Lucknow\",\"League\",\"LSG\",\"DCP\",\"DCP\",\"field\",\"LSG\"),  (\"2023\",\"Hyderabad\",\"League\",\"RR\",\"SRH\",\"SRH\",\"field\",\"RR\"),  (\"2023\",\"Bengaluru\",\"League\",\"MI\",\"RCB\",\"RCB\",\"field\",\"RCB\"),  (\"2023\",\"Chennai\",\"League\",\"CSK\",\"LSG\",\"LSG\",\"field\",\"CSK\"),  (\"2023\",\"Delhi\",\"League\",\"DCP\",\"GT\",\"GT\",\"field\",\"GT\"),  (\"2023\",\"Guwahati\",\"League\",\"PK\",\"RR\",\"RR\",\"field\",\"PK\"),  (\"2023\",\"Kolkata\",\"League\",\"KKR\",\"RCB\",\"RCB\",\"field\",\"KKR\"),  (\"2023\",\"Lucknow\",\"League\",\"SRH\",\"LSG\",\"SRH\",\"bat\",\"LSG\"),  (\"2023\",\"Guwahati\",\"League\",\"RR\",\"DCP\",\"DCP\",\"field\",\"RR\"),  (\"2023\",\"Mumbai\",\"League\",\"MI\",\"CSK\",\"CSK\",\"field\",\"CSK\"),  (\"2023\",\"Ahmedabad\",\"League\",\"GT\",\"KKR\",\"GT\",\"bat\",\"KKR\"),  (\"2023\",\"Hyderabad\",\"League\",\"PK\",\"SRH\",\"SRH\",\"field\",\"SRH\"),  (\"2023\",\"Bengaluru\",\"League\",\"RCB\",\"LSG\",\"LSG\",\"field\",\"LSG\"),  (\"2023\",\"Delhi\",\"League\",\"DCP\",\"MI\",\"MI\",\"field\",\"MI\"),  (\"2023\",\"Chennai\",\"League\",\"RR\",\"CSK\",\"CSK\",\"field\",\"RR\"),  (\"2023\",\"Chandigarh\",\"League\",\"PK\",\"GT\",\"GT\",\"field\",\"GT\"),  (\"2023\",\"Kolkata\",\"League\",\"SRH\",\"KKR\",\"KKR\",\"field\",\"SRH\"),  (\"2023\",\"Bengaluru\",\"League\",\"RCB\",\"DCP\",\"DCP\",\"field\",\"RCB\"),  (\"2023\",\"Lucknow\",\"League\",\"LSG\",\"PK\",\"PK\",\"field\",\"PK\"),  (\"2023\",\"Mumbai\",\"League\",\"KKR\",\"MI\",\"MI\",\"field\",\"MI\"),  (\"2023\",\"Ahmedabad\",\"League\",\"GT\",\"RR\",\"RR\",\"field\",\"RR\"),  (\"2023\",\"Bengaluru\",\"League\",\"CSK\",\"RCB\",\"RCB\",\"field\",\"CSK\"),  (\"2023\",\"Hyderabad\",\"League\",\"MI\",\"SRH\",\"SRH\",\"field\",\"MI\"),  (\"2023\",\"Jaipur\",\"League\",\"LSG\",\"RR\",\"RR\",\"field\",\"LSG\"),  (\"2023\",\"Chandigarh\",\"League\",\"RCB\",\"PK\",\"PK\",\"field\",\"RCB\"),  (\"2023\",\"Delhi\",\"League\",\"KKR\",\"DCP\",\"DCP\",\"field\",\"DCP\"),  (\"2023\",\"Chennai\",\"League\",\"SRH\",\"CSK\",\"CSK\",\"field\",\"CSK\"),  (\"2023\",\"Lucknow\",\"League\",\"GT\",\"LSG\",\"GT\",\"bat\",\"GT\"),  (\"2023\",\"Mumbai\",\"League\",\"PK\",\"MI\",\"MI\",\"field\",\"PK\"),  (\"2023\",\"Bengaluru\",\"League\",\"RCB\",\"RR\",\"RR\",\"field\",\"RCB\"),  (\"2023\",\"Kolkata\",\"League\",\"CSK\",\"KKR\",\"KKR\",\"field\",\"CSK\"),  (\"2023\",\"Hyderabad\",\"League\",\"DCP\",\"SRH\",\"DCP\",\"bat\",\"DCP\"),  (\"2023\",\"Ahmedabad\",\"League\",\"GT\",\"MI\",\"MI\",\"field\",\"GT\"),  (\"2023\",\"Bengaluru\",\"League\",\"KKR\",\"RCB\",\"RCB\",\"field\",\"KKR\"),  (\"2023\",\"Jaipur\",\"League\",\"RR\",\"CSK\",\"RR\",\"bat\",\"RR\"),  (\"2023\",\"Chandigarh\",\"League\",\"LSG\",\"PK\",\"PK\",\"field\",\"LSG\"),  (\"2023\",\"Kolkata\",\"League\",\"KKR\",\"GT\",\"GT\",\"field\",\"GT\"),  (\"2023\",\"Delhi\",\"League\",\"SRH\",\"DCP\",\"SRH\",\"bat\",\"SRH\"),  (\"2023\",\"Chennai\",\"League\",\"CSK\",\"PK\",\"CSK\",\"bat\",\"PK\"),  (\"2023\",\"Mumbai\",\"League\",\"RR\",\"MI\",\"RR\",\"bat\",\"MI\"),  (\"2023\",\"Lucknow\",\"League\",\"RCB\",\"LSG\",\"RCB\",\"bat\",\"RCB\"),  (\"2023\",\"Ahmedabad\",\"League\",\"DCP\",\"GT\",\"DCP\",\"bat\",\"DCP\"),  (\"2023\",\"Lucknow\",\"League\",\"LSG\",\"CSK\",\"CSK\",\"field\",\"NA\"),  (\"2023\",\"Chandigarh\",\"League\",\"PK\",\"MI\",\"MI\",\"field\",\"MI\"),  (\"2023\",\"Hyderabad\",\"League\",\"KKR\",\"SRH\",\"KKR\",\"bat\",\"KKR\"),  (\"2023\",\"Jaipur\",\"League\",\"RR\",\"GT\",\"RR\",\"bat\",\"GT\"),  (\"2023\",\"Chennai\",\"League\",\"MI\",\"CSK\",\"CSK\",\"field\",\"CSK\"),  (\"2023\",\"Delhi\",\"League\",\"RCB\",\"DCP\",\"RCB\",\"bat\",\"DCP\"),  (\"2023\",\"Ahmedabad\",\"League\",\"GT\",\"LSG\",\"LSG\",\"field\",\"GT\"),  (\"2023\",\"Jaipur\",\"League\",\"RR\",\"SRH\",\"RR\",\"bat\",\"SRH\"),  (\"2023\",\"Kolkata\",\"League\",\"PK\",\"KKR\",\"PK\",\"bat\",\"KKR\"),  (\"2023\",\"Mumbai\",\"League\",\"RCB\",\"MI\",\"MI\",\"field\",\"MI\"),  (\"2023\",\"Chennai\",\"League\",\"CSK\",\"DCP\",\"CSK\",\"bat\",\"CSK\"),  (\"2023\",\"Kolkata\",\"League\",\"KKR\",\"RR\",\"RR\",\"field\",\"RR\"),  (\"2023\",\"Mumbai\",\"League\",\"MI\",\"GT\",\"GT\",\"field\",\"MI\"),  (\"2023\",\"Hyderabad\",\"League\",\"SRH\",\"LSG\",\"SRH\",\"bat\",\"LSG\"),  (\"2023\",\"Delhi\",\"League\",\"PK\",\"DCP\",\"DCP\",\"field\",\"PK\"),  (\"2023\",\"Jaipur\",\"League\",\"RCB\",\"RR\",\"RCB\",\"bat\",\"RCB\"),  (\"2023\",\"Chennai\",\"League\",\"CSK\",\"KKR\",\"CSK\",\"bat\",\"KKR\"),  (\"2023\",\"Ahmedabad\",\"League\",\"GT\",\"SRH\",\"SRH\",\"field\",\"GT\"),  (\"2023\",\"Lucknow\",\"League\",\"LSG\",\"MI\",\"MI\",\"field\",\"LSG\"),  (\"2023\",\"Dharamsala\",\"League\",\"DCP\",\"PK\",\"PK\",\"field\",\"DCP\"),  (\"2023\",\"Hyderabad\",\"League\",\"SRH\",\"RCB\",\"RCB\",\"field\",\"RCB\"),  (\"2023\",\"Dharamsala\",\"League\",\"PK\",\"RR\",\"RR\",\"field\",\"RR\"),  (\"2023\",\"Delhi\",\"League\",\"CSK\",\"DCP\",\"CSK\",\"bat\",\"CSK\"),  (\"2023\",\"Kolkata\",\"League\",\"LSG\",\"KKR\",\"KKR\",\"field\",\"LSG\"),  (\"2023\",\"Mumbai\",\"League\",\"SRH\",\"MI\",\"MI\",\"field\",\"MI\"),  (\"2023\",\"Bengaluru\",\"League\",\"RCB\",\"GT\",\"GT\",\"field\",\"GT\"),  (\"2023\",\"Chennai\",\"Qualifier 1\",\"CSK\",\"GT\",\"GT\",\"field\",\"CSK\"),  (\"2023\",\"Chennai\",\"Eliminator\",\"MI\",\"LSG\",\"MI\",\"bat\",\"MI\"),  (\"2023\",\"Ahmedabad\",\"Qualifier 2\",\"GT\",\"MI\",\"MI\",\"field\",\"GT\"),  (\"2023\",\"Ahmedabad\",\"Final\",\"GT\",\"CSK\",\"CSK\",\"field\",\"CSK\"),  (\"2024\",\"Chennai\",\"League\",\"RCB\",\"CSK\",\"RCB\",\"bat\",\"CSK\"),  (\"2024\",\"Mohali\",\"League\",\"DCP\",\"PK\",\"PK\",\"field\",\"PK\"),  (\"2024\",\"Kolkata\",\"League\",\"KKR\",\"SRH\",\"SRH\",\"field\",\"KKR\"),  (\"2024\",\"Jaipur\",\"League\",\"RR\",\"LSG\",\"RR\",\"bat\",\"RR\"),\n",
        "              (\"2024\",\"Ahmedabad\",\"League\",\"GT\",\"MI\",\"MI\",\"field\",\"GT\"),  (\"2024\",\"Bengaluru\",\"League\",\"PK\",\"RCB\",\"RCB\",\"field\",\"RCB\"),  (\"2024\",\"Chennai\",\"League\",\"CSK\",\"GT\",\"GT\",\"field\",\"CSK\"),  (\"2024\",\"Hyderabad\",\"League\",\"SRH\",\"MI\",\"MI\",\"field\",\"SRH\"),  (\"2024\",\"Jaipur\",\"League\",\"RR\",\"DCP\",\"DCP\",\"field\",\"RR\"),  (\"2024\",\"Bengaluru\",\"League\",\"RCB\",\"KKR\",\"KKR\",\"field\",\"KKR\"),  (\"2024\",\"Lucknow\",\"League\",\"LSG\",\"PK\",\"LSG\",\"bat\",\"LSG\"),  (\"2024\",\"Ahmedabad\",\"League\",\"SRH\",\"GT\",\"SRH\",\"bat\",\"GT\"),  (\"2024\",\"Visakhapatnam\",\"League\",\"DCP\",\"CSK\",\"DCP\",\"bat\",\"DCP\"),  (\"2024\",\"Mumbai\",\"League\",\"MI\",\"RR\",\"RR\",\"field\",\"RR\"),  (\"2024\",\"Bengaluru\",\"League\",\"LSG\",\"RCB\",\"RCB\",\"field\",\"LSG\"),  (\"2024\",\"Visakhapatnam\",\"League\",\"KKR\",\"DCP\",\"KKR\",\"bat\",\"KKR\"),  (\"2024\",\"Ahmedabad\",\"League\",\"GT\",\"PK\",\"PK\",\"field\",\"PK\"),  (\"2024\",\"Hyderabad\",\"League\",\"CSK\",\"SRH\",\"SRH\",\"field\",\"SRH\"),  (\"2024\",\"Jaipur\",\"League\",\"RCB\",\"RR\",\"RR\",\"field\",\"RR\"),  (\"2024\",\"Mumbai\",\"League\",\"MI\",\"DCP\",\"DCP\",\"field\",\"MI\"),  (\"2024\",\"Lucknow\",\"League\",\"LSG\",\"GT\",\"LSG\",\"bat\",\"LSG\"),  (\"2024\",\"Chennai\",\"League\",\"KKR\",\"CSK\",\"CSK\",\"field\",\"CSK\"),  (\"2024\",\"Mohali\",\"League\",\"SRH\",\"PK\",\"PK\",\"field\",\"SRH\"),  (\"2024\",\"Jaipur\",\"League\",\"RR\",\"GT\",\"GT\",\"field\",\"GT\"),  (\"2024\",\"Mumbai\",\"League\",\"RCB\",\"MI\",\"MI\",\"field\",\"MI\"),  (\"2024\",\"Lucknow\",\"League\",\"LSG\",\"DCP\",\"LSG\",\"bat\",\"DCP\"),  (\"2024\",\"Mohali\",\"League\",\"PK\",\"RR\",\"RR\",\"field\",\"RR\"),  (\"2024\",\"Kolkata\",\"League\",\"LSG\",\"KKR\",\"KKR\",\"field\",\"KKR\"),  (\"2024\",\"Mumbai\",\"League\",\"CSK\",\"MI\",\"MI\",\"field\",\"CSK\"),  (\"2024\",\"Bengaluru\",\"League\",\"SRH\",\"RCB\",\"RCB\",\"field\",\"SRH\"),  (\"2024\",\"Kolkata\",\"League\",\"KKR\",\"RR\",\"RR\",\"field\",\"RR\"),  (\"2024\",\"Ahmedabad\",\"League\",\"GT\",\"DCP\",\"DCP\",\"field\",\"DCP\"),  (\"2024\",\"Mohali\",\"League\",\"MI\",\"PK\",\"PK\",\"field\",\"MI\"),  (\"2024\",\"Lucknow\",\"League\",\"CSK\",\"LSG\",\"LSG\",\"field\",\"LSG\"),  (\"2024\",\"Delhi\",\"League\",\"SRH\",\"DCP\",\"DCP\",\"field\",\"SRH\"),  (\"2024\",\"Kolkata\",\"League\",\"KKR\",\"RCB\",\"RCB\",\"field\",\"KKR\"),  (\"2024\",\"Mohali\",\"League\",\"PK\",\"GT\",\"PK\",\"bat\",\"GT\"),  (\"2024\",\"Jaipur\",\"League\",\"MI\",\"RR\",\"MI\",\"bat\",\"RR\"),  (\"2024\",\"Chennai\",\"League\",\"CSK\",\"LSG\",\"LSG\",\"field\",\"LSG\"),  (\"2024\",\"Delhi\",\"League\",\"DCP\",\"GT\",\"GT\",\"field\",\"DCP\"),  (\"2024\",\"Hyderabad\",\"League\",\"RCB\",\"SRH\",\"RCB\",\"bat\",\"RCB\"),  (\"2024\",\"Kolkata\",\"League\",\"KKR\",\"PK\",\"PK\",\"field\",\"PK\"),  (\"2024\",\"Delhi\",\"League\",\"DCP\",\"MI\",\"MI\",\"field\",\"DCP\"),  (\"2024\",\"Lucknow\",\"League\",\"LSG\",\"RR\",\"RR\",\"field\",\"RR\"),  (\"2024\",\"Ahmedabad\",\"League\",\"GT\",\"RCB\",\"RCB\",\"field\",\"RCB\"),  (\"2024\",\"Chennai\",\"League\",\"CSK\",\"SRH\",\"SRH\",\"field\",\"CSK\"),  (\"2024\",\"Kolkata\",\"League\",\"DCP\",\"KKR\",\"DCP\",\"bat\",\"KKR\"),  (\"2024\",\"Lucknow\",\"League\",\"MI\",\"LSG\",\"LSG\",\"field\",\"LSG\"),  (\"2024\",\"Chennai\",\"League\",\"CSK\",\"PK\",\"PK\",\"field\",\"PK\"),  (\"2024\",\"Hyderabad\",\"League\",\"SRH\",\"RR\",\"SRH\",\"bat\",\"SRH\"),  (\"2024\",\"Mumbai\",\"League\",\"KKR\",\"MI\",\"MI\",\"field\",\"KKR\"),  (\"2024\",\"Bengaluru\",\"League\",\"GT\",\"RCB\",\"RCB\",\"field\",\"RCB\"),  (\"2024\",\"Dharamsala\",\"League\",\"CSK\",\"PK\",\"PK\",\"field\",\"CSK\"),  (\"2024\",\"Lucknow\",\"League\",\"KKR\",\"LSG\",\"LSG\",\"field\",\"KKR\"),  (\"2024\",\"Mumbai\",\"League\",\"SRH\",\"MI\",\"MI\",\"field\",\"MI\"),  (\"2024\",\"Delhi\",\"League\",\"DCP\",\"RR\",\"RR\",\"field\",\"DCP\"),  (\"2024\",\"Hyderabad\",\"League\",\"LSG\",\"SRH\",\"LSG\",\"bat\",\"SRH\"),  (\"2024\",\"Dharamsala\",\"League\",\"RCB\",\"PK\",\"PK\",\"field\",\"RCB\"),  (\"2024\",\"Ahmedabad\",\"League\",\"GT\",\"CSK\",\"CSK\",\"field\",\"GT\"),  (\"2024\",\"Kolkata\",\"League\",\"KKR\",\"MI\",\"MI\",\"field\",\"KKR\"),  (\"2024\",\"Chennai\",\"League\",\"RR\",\"CSK\",\"RR\",\"bat\",\"CSK\"),  (\"2024\",\"Bengaluru\",\"League\",\"RCB\",\"DCP\",\"DCP\",\"field\",\"RCB\"),  (\"2024\",\"Delhi\",\"League\",\"DCP\",\"LSG\",\"LSG\",\"field\",\"DCP\"),  (\"2024\",\"Guwahati\",\"League\",\"RR\",\"PK\",\"RR\",\"bat\",\"PK\"),  (\"2024\",\"Mumbai\",\"League\",\"LSG\",\"MI\",\"MI\",\"field\",\"LSG\"),  (\"2024\",\"Bengaluru\",\"League\",\"RCB\",\"CSK\",\"CSK\",\"field\",\"RCB\"),  (\"2024\",\"Hyderabad\",\"League\",\"PK\",\"SRH\",\"PK\",\"bat\",\"SRH\"),  (\"2024\",\"Ahmedabad\",\"Qualifier 1\",\"SRH\",\"KKR\",\"SRH\",\"bat\",\"KKR\"),  (\"2024\",\"Ahmedabad\",\"Eliminator\",\"RCB\",\"RR\",\"RR\",\"field\",\"RR\"),  (\"2024\",\"Chennai\",\"Qualifier 2\",\"SRH\",\"RR\",\"RR\",\"field\",\"SRH\"),  (\"2024\",\"Chennai\",\"Final\",\"SRH\",\"KKR\",\"SRH\",\"bat\",\"KKR\") ]\n",
        "\n",
        "\n",
        "def get_team_name(abbreviation):\n",
        "    \"\"\"Helper function to get full team name from abbreviation.\"\"\"\n",
        "    for abbrev, name in team_abbrevs:\n",
        "        if abbrev == abbreviation:\n",
        "            return name\n",
        "    return None\n"
      ]
    },
    {
      "cell_type": "code",
      "source": [
        "# Example Execution\n",
        "abbreviation = \"MI\"\n",
        "full_team_name = get_team_name(abbreviation)\n",
        "print(f\"The full team name for '{abbreviation}' is: {full_team_name}\")"
      ],
      "metadata": {
        "colab": {
          "base_uri": "https://localhost:8080/"
        },
        "id": "ClPz_hj3Q5_C",
        "outputId": "4830057a-c9a5-41af-fe6a-93601592baf6"
      },
      "execution_count": 3,
      "outputs": [
        {
          "output_type": "stream",
          "name": "stdout",
          "text": [
            "The full team name for 'MI' is: Mumbai Indians\n"
          ]
        }
      ]
    },
    {
      "cell_type": "code",
      "source": [
        "# 1. Which team has the highest winning percentage in the matches it has played across a given list of seasons?\n",
        "\n",
        "# Write a function `max_win_percentage([list_of_seasons])` to compute this.\n",
        "# A typical call to the function will be of the form `max_win_percentage([\"2020/21\", \"2024\"])`.\n",
        "\n",
        "# The function should iterate through the match data, filtering the matches based on the given list of seasons.\n",
        "# It should calculate the total number of matches and the total number of wins for each team across the specified seasons.\n",
        "# The winning percentage for each team is calculated as:\n",
        "#    winning_percentage = (number_of_wins / total_matches) * 100\n",
        "\n",
        "# The function should return the full name of the team with the highest winning percentage.\n",
        "\n",
        "# To achieve this:\n",
        "# - Loop through the match data, check if the season matches one in the list.\n",
        "# - For each team, count the number of matches played and matches won.\n",
        "# - Calculate the winning percentage for each team.\n",
        "# - Find the team with the highest percentage and return its full name.\n",
        "\n",
        "# Note: Use a helper function `get_team_name(abbreviation)` to convert team abbreviations to full names.\n",
        "\n",
        "\n",
        "\n",
        "def max_win_percentage(list_of_seasons):\n",
        "    \"\"\"Returns the team with the highest winning percentage across the given seasons.\n",
        "\n",
        "    Parameters:\n",
        "    - list_of_seasons: List of seasons to consider (e.g., [\"2020/21\", \"2024\"]).\n",
        "\n",
        "    Returns:\n",
        "    - Full name of the team with the highest winning percentage.\n",
        "    \"\"\"\n",
        "    team_stats = {}  # Dictionary to store total matches and wins for each team\n",
        "\n",
        "    # Convert list_of_seasons to strings if necessary, ensuring format matches match_data\n",
        "    list_of_seasons = [str(season) for season in list_of_seasons]\n",
        "\n",
        "    # Iterate through match data to calculate wins and total matches\n",
        "    for match in match_data:\n",
        "        season = match[0]\n",
        "        if season in list_of_seasons:\n",
        "            team1 = match[3]\n",
        "            team2 = match[4]\n",
        "            match_winner = match[7]\n",
        "\n",
        "            # Count total matches for team1 and team2\n",
        "            if team1 not in team_stats:\n",
        "                team_stats[team1] = {\"matches\": 0, \"wins\": 0}\n",
        "            if team2 not in team_stats:\n",
        "                team_stats[team2] = {\"matches\": 0, \"wins\": 0}\n",
        "\n",
        "            team_stats[team1][\"matches\"] += 1\n",
        "            team_stats[team2][\"matches\"] += 1\n",
        "\n",
        "            # Count win for the match winner\n",
        "            if match_winner in team_stats:\n",
        "                team_stats[match_winner][\"wins\"] += 1\n",
        "\n",
        "    # Calculate win percentage and find the team with the maximum percentage\n",
        "    max_percentage = 0\n",
        "    best_team = None\n",
        "\n",
        "    for team, stats in team_stats.items():\n",
        "        if stats[\"matches\"] > 0:\n",
        "            win_percentage = (stats[\"wins\"] / stats[\"matches\"]) * 100\n",
        "            if win_percentage > max_percentage:\n",
        "                max_percentage = win_percentage\n",
        "                best_team = team\n",
        "\n",
        "    # Return the full name of the team with the highest win percentage\n",
        "    return get_team_name(best_team) if best_team else None\n"
      ],
      "metadata": {
        "id": "gVoVIFjiQ7mi"
      },
      "execution_count": 4,
      "outputs": []
    },
    {
      "cell_type": "code",
      "source": [
        "# Sample Execution\n",
        "seasons = [\"2023\", \"2024\"]  # List of seasons as strings\n",
        "print(max_win_percentage(seasons))"
      ],
      "metadata": {
        "colab": {
          "base_uri": "https://localhost:8080/"
        },
        "id": "8y0mLtEORIKs",
        "outputId": "1998306e-ee50-4da6-e99d-0b5ebc05add1"
      },
      "execution_count": 5,
      "outputs": [
        {
          "output_type": "stream",
          "name": "stdout",
          "text": [
            "Kolkata Knight Riders\n"
          ]
        }
      ]
    },
    {
      "cell_type": "code",
      "source": [
        "# Ask the user for seasons input\n",
        "seasons_input = input(\"Please enter seasons separated by commas (e.g., 2023, 2024): \")\n",
        "\n",
        "# Split the input string into a list and strip any extra whitespace\n",
        "seasons = [season.strip() for season in seasons_input.split(\",\")]\n",
        "\n",
        "# Find the team with the maximum winning percentage for the given seasons\n",
        "max_winning_team = max_win_percentage(seasons)\n",
        "\n",
        "# Print the result\n",
        "print(f\" {max_winning_team}\")\n"
      ],
      "metadata": {
        "colab": {
          "base_uri": "https://localhost:8080/"
        },
        "id": "vhLa7CfaS7rz",
        "outputId": "abacebf9-933e-4c7d-cd06-e7d47254bba8"
      },
      "execution_count": 21,
      "outputs": [
        {
          "output_type": "stream",
          "name": "stdout",
          "text": [
            "Please enter seasons separated by commas (e.g., 2023, 2024): 2023\n",
            " Gujarat Titans\n"
          ]
        }
      ]
    },
    {
      "cell_type": "code",
      "source": [
        "# 2. Which team has the highest winning percentage in non-league matches across all seasons?\n",
        "\n",
        "# Write a function `max_non_league_percentage()` to compute this.\n",
        "\n",
        "# The function should iterate through the match data, filtering only the non-league matches\n",
        "# (i.e., matches where the match type is not \"League\").\n",
        "# It should calculate the total number of non-league matches and the total number of wins for each team across all seasons.\n",
        "# The winning percentage for each team in non-league matches is calculated as:\n",
        "#    winning_percentage = (number_of_wins / total_non_league_matches) * 100\n",
        "\n",
        "# The function should return the full name of the team with the highest winning percentage in non-league matches.\n",
        "\n",
        "# To achieve this:\n",
        "# - Loop through the match data, check if the match type is non-league (exclude matches where match type is \"League\").\n",
        "# - For each team, count the number of non-league matches played and matches won.\n",
        "# - Calculate the winning percentage for each team.\n",
        "# - Find the team with the highest percentage and return its full name.\n",
        "\n",
        "# Note: Use the helper function `get_team_name(abbreviation)` to convert team abbreviations to full names.\n",
        "\n",
        "\n",
        "\n",
        "def max_non_league_percentage():\n",
        "    \"\"\"\n",
        "    Returns the team with the highest winning percentage in non-league matches.\n",
        "\n",
        "    Returns:\n",
        "    - Full name of the team with the highest winning percentage in non-league matches.\n",
        "    \"\"\"\n",
        "\n",
        "    team_stats = {}  # Dictionary to store total matches and wins for each team\n",
        "\n",
        "    # Iterate through match data to calculate wins and total matches for non-league matches\n",
        "    for match in match_data:\n",
        "        match_type = match[2]\n",
        "        if match_type != \"League\":  # Non-league matches\n",
        "            team1 = match[3]\n",
        "            team2 = match[4]\n",
        "            match_winner = match[7]\n",
        "\n",
        "            # Initialize the stats for teams if not present\n",
        "            if team1 not in team_stats:\n",
        "                team_stats[team1] = {\"matches\": 0, \"wins\": 0}\n",
        "            if team2 not in team_stats:\n",
        "                team_stats[team2] = {\"matches\": 0, \"wins\": 0}\n",
        "\n",
        "            # Increment total matches for both teams\n",
        "            team_stats[team1][\"matches\"] += 1\n",
        "            team_stats[team2][\"matches\"] += 1\n",
        "\n",
        "            # Increment wins for the match winner\n",
        "            if match_winner in team_stats:\n",
        "                team_stats[match_winner][\"wins\"] += 1\n",
        "\n",
        "    # Calculate win percentage and find the team with the maximum percentage\n",
        "    max_percentage = 0\n",
        "    best_team = None\n",
        "\n",
        "    for team, stats in team_stats.items():\n",
        "        if stats[\"matches\"] > 0:\n",
        "            win_percentage = (stats[\"wins\"] / stats[\"matches\"]) * 100\n",
        "            if win_percentage > max_percentage:\n",
        "                max_percentage = win_percentage\n",
        "                best_team = team\n",
        "\n",
        "    # Return the full name of the team with the highest win percentage\n",
        "    return get_team_name(best_team)"
      ],
      "metadata": {
        "id": "BgMMK_-XRJus"
      },
      "execution_count": 6,
      "outputs": []
    },
    {
      "cell_type": "code",
      "source": [
        "# Sample Execution\n",
        "print(max_non_league_percentage())\n"
      ],
      "metadata": {
        "colab": {
          "base_uri": "https://localhost:8080/"
        },
        "id": "eIIYprxBRSS8",
        "outputId": "7f9156c3-1e0d-444c-e4e3-302b877d7d5b"
      },
      "execution_count": 7,
      "outputs": [
        {
          "output_type": "stream",
          "name": "stdout",
          "text": [
            "Kolkata Knight Riders\n"
          ]
        }
      ]
    },
    {
      "cell_type": "code",
      "source": [
        "# 3. We wish to validate the following claim: \"The team that wins the toss prefers to bat.\"\n",
        "\n",
        "# Write two functions:\n",
        "#   a) `toss_and_bat_overall()`: This function should return True if, across all matches, the team that won the toss\n",
        "#      chose to bat more than 50% of the time.\n",
        "\n",
        "#   b) `toss_and_bat(season)`: This function should return True if, for the specified season, the team that won the toss\n",
        "#      chose to bat more than 50% of the time.\n",
        "\n",
        "# For `toss_and_bat_overall()`:\n",
        "# - Loop through all the match data and keep track of how many times the team that won the toss chose to bat.\n",
        "# - Also, track how many times the toss-winning team chose to bowl.\n",
        "# - Calculate the percentage of times the toss-winning team chose to bat:\n",
        "#      bat_percentage = (bat_choices / total_tosses) * 100\n",
        "# - Return True if the percentage is greater than 50%, else return False.\n",
        "\n",
        "# For `toss_and_bat(season)`:\n",
        "# - Similar to `toss_and_bat_overall()`, but this function only considers matches from a specific season.\n",
        "# - Filter matches based on the given season, then calculate the percentage of toss-winning teams that chose to bat.\n",
        "# - Return True if more than 50% of toss-winning teams in the season chose to bat, otherwise return False.\n",
        "\n",
        "# Special cases to handle:\n",
        "# - Ensure that you account for both lowercase and uppercase decisions (\"bat\"/\"Bowl\", etc.).\n",
        "# - If there are no matches or toss decisions for a season, return False by default.\n",
        "\n",
        "\n",
        "def toss_choice():\n",
        "    \"\"\"Helper function to calculate the percentage of matches where the toss-winning team chose to bat.\"\"\"\n",
        "    bat_count = 0\n",
        "    total_matches = 0\n",
        "\n",
        "    # Iterate through all matches and count toss decisions\n",
        "    for match in match_data:\n",
        "        toss_decision = match[6]  # Toss decision (bat or bowl)\n",
        "        if toss_decision.lower() == \"bat\":  # Check in lowercase\n",
        "            bat_count += 1  # Increment when toss winner chose to bat\n",
        "        total_matches += 1  # Count total matches\n",
        "\n",
        "    if total_matches == 0:\n",
        "        return 0  # Prevent division by zero if there are no matches\n",
        "\n",
        "    # Return the percentage of matches where toss-winning team chose to bat\n",
        "    return (bat_count / total_matches) * 100\n",
        "\n",
        "\n",
        "def seasonal_toss_choice(season):\n",
        "    \"\"\"Helper function to calculate the percentage of toss decisions in a specific season where the toss-winning team chose to bat.\"\"\"\n",
        "    bat_count = 0\n",
        "    match_count = 0\n",
        "\n",
        "    # Iterate through the matches for the given season\n",
        "    for match in match_data:\n",
        "        if match[0] == season:  # Check if the match is from the specified season\n",
        "            toss_decision = match[6]  # Toss decision (bat or bowl)\n",
        "            if toss_decision.lower() == \"bat\":  # Check in lowercase\n",
        "                bat_count += 1  # Increment when toss winner chose to bat\n",
        "            match_count += 1  # Count total matches in the season\n",
        "\n",
        "    if match_count == 0:\n",
        "        return 0  # Prevent division by zero if there are no matches in the season\n",
        "\n",
        "    # Return the percentage of matches where toss-winning team chose to bat in the season\n",
        "    return (bat_count / match_count) * 100\n",
        "\n",
        "\n",
        "def toss_and_bat_overall():\n",
        "    \"\"\"Returns True if the toss-winning team chooses to bat more than 50% of the time across all matches.\"\"\"\n",
        "    if toss_choice() >= 50:\n",
        "        return True  # Return True if more than 50% of the time the team chose to bat\n",
        "    return False  # Otherwise, return False\n",
        "\n",
        "\n",
        "def toss_and_bat(season):\n",
        "    \"\"\"Returns True if the toss-winning team chooses to bat more than 50% of the time in the given season.\"\"\"\n",
        "    if seasonal_toss_choice(season) >= 50:\n",
        "        return True  # Return True if more than 50% of the time the team chose to bat in the given season\n",
        "    return False  # Otherwise, return False"
      ],
      "metadata": {
        "id": "Dbe80G51RXkU"
      },
      "execution_count": 8,
      "outputs": []
    },
    {
      "cell_type": "code",
      "source": [
        "# Sample Execution\n",
        "print(toss_and_bat_overall())  # Check toss and bat percentage for all seasons\n",
        "print(toss_and_bat(\"2009\"))    # Check toss and bat percentage for the 2023 season"
      ],
      "metadata": {
        "colab": {
          "base_uri": "https://localhost:8080/"
        },
        "id": "wpmg0r-FRYrc",
        "outputId": "36d09998-4edc-4c9c-fbcf-946c73ba81c4"
      },
      "execution_count": 13,
      "outputs": [
        {
          "output_type": "stream",
          "name": "stdout",
          "text": [
            "False\n",
            "True\n"
          ]
        }
      ]
    },
    {
      "cell_type": "code",
      "source": [
        "print(toss_and_bat(\"2024\"))    # Check toss and bat percentage for the 2024 season\n"
      ],
      "metadata": {
        "colab": {
          "base_uri": "https://localhost:8080/"
        },
        "id": "vVrb04lKReuL",
        "outputId": "540824c7-f804-4eb8-e0ca-86e4170a72b1"
      },
      "execution_count": 11,
      "outputs": [
        {
          "output_type": "stream",
          "name": "stdout",
          "text": [
            "False\n"
          ]
        }
      ]
    },
    {
      "cell_type": "code",
      "source": [
        "# Ask user for a year input\n",
        "year_input = input(\"Please enter a year (e.g., 2024): \")\n",
        "\n",
        "# Convert the input to string (not strictly necessary since input() returns a string)\n",
        "year_string = str(year_input)\n",
        "\n",
        "# Find the result for the specified year\n",
        "result = toss_and_bat(year_string)\n",
        "\n",
        "# Print the result\n",
        "if result:\n",
        "    print(f\"True\")\n",
        "else:\n",
        "    print(f\"False\")\n"
      ],
      "metadata": {
        "colab": {
          "base_uri": "https://localhost:8080/"
        },
        "id": "WRtK_-RzSJpT",
        "outputId": "5ca26fc8-2d7d-4014-caa5-4fe5b8dd8f6f"
      },
      "execution_count": 19,
      "outputs": [
        {
          "output_type": "stream",
          "name": "stdout",
          "text": [
            "Please enter a year (e.g., 2024): 2009\n",
            "True\n"
          ]
        }
      ]
    },
    {
      "cell_type": "code",
      "source": [
        "# 4. We wish to validate the following claim: \"The team that bats first is likely to win.\"\n",
        "\n",
        "# Write two functions:\n",
        "#   a) `bat_and_win_overall()`: This function should return True if, across all matches, the team that batted first won\n",
        "#      more than 50% of the time.\n",
        "#\n",
        "#   b) `bat_and_win(season)`: This function should return True if, for the specified season, the team that batted first\n",
        "#      won more than 50% of the time.\n",
        "\n",
        "# For `bat_and_win_overall()`:\n",
        "# - Loop through all match data and track how many matches the team batting first won.\n",
        "# - Track the total number of matches as well.\n",
        "# - If the team that won the toss chose to bat, the toss winner batted first; otherwise, the other team batted first.\n",
        "# - Calculate the percentage of times the team that batted first won:\n",
        "#     bat_win_percentage = (bat_first_wins / total_matches) * 100\n",
        "# - Return True if this percentage is greater than 50%, otherwise return False.\n",
        "\n",
        "# For `bat_and_win(season)`:\n",
        "# - Similar to `bat_and_win_overall()`, but this function only considers matches from a specific season.\n",
        "# - Filter matches based on the given season, then calculate the percentage of matches where the team that batted first won.\n",
        "# - Return True if more than 50% of teams that batted first in the given season won their matches, else return False.\n",
        "\n",
        "# Special cases to handle:\n",
        "# - Ensure that both lowercase and uppercase match decisions (like \"bat\" or \"Bowl\") are handled properly.\n",
        "# - If there are no matches or toss data for a season, return False.\n",
        "\n",
        "\n",
        "\n",
        "\n",
        "def bat_and_win_overall():\n",
        "    \"\"\"Returns True if the team that batted first won more than 50% of the time across all matches.\"\"\"\n",
        "    bat_first_wins = 0\n",
        "    total_matches = 0\n",
        "\n",
        "    # Iterate through all matches and check if the team that batted first won\n",
        "    for match in match_data:\n",
        "        toss_winner = match[5]\n",
        "        toss_decision = match[6]\n",
        "        match_winner = match[7]\n",
        "\n",
        "        # Determine the team that batted first\n",
        "        if toss_decision == \"Bat\":\n",
        "            first_batting_team = toss_winner\n",
        "        else:\n",
        "            first_batting_team = match[4] if toss_winner == match[3] else match[3]\n",
        "\n",
        "        # Check if the team that batted first won\n",
        "        if first_batting_team == match_winner:\n",
        "            bat_first_wins += 1\n",
        "\n",
        "        total_matches += 1\n",
        "\n",
        "    # Calculate win percentage for teams that batted first\n",
        "    bat_first_win_percentage = (bat_first_wins / total_matches) * 100\n",
        "\n",
        "    # Return True if more than 50% of teams that batted first won\n",
        "    return bat_first_win_percentage > 50\n",
        "\n",
        "\n",
        "def bat_and_win(season):\n",
        "    \"\"\"Returns True if the team that batted first won more than 50% of the time in the given season.\"\"\"\n",
        "    bat_first_wins = 0\n",
        "    total_matches = 0\n",
        "\n",
        "    # Iterate through matches in the specified season\n",
        "    for match in match_data:\n",
        "        if match[0] == season:\n",
        "            toss_winner = match[5]\n",
        "            toss_decision = match[6]\n",
        "            match_winner = match[7]\n",
        "\n",
        "            # Determine the team that batted first\n",
        "            if toss_decision == \"Bat\":\n",
        "                first_batting_team = toss_winner\n",
        "            else:\n",
        "                first_batting_team = match[4] if toss_winner == match[3] else match[3]\n",
        "\n",
        "            # Check if the team that batted first won\n",
        "            if first_batting_team == match_winner:\n",
        "                bat_first_wins += 1\n",
        "\n",
        "            total_matches += 1\n",
        "\n",
        "    # Check if any matches were played\n",
        "    if total_matches == 0:\n",
        "        return False  # No matches played in this season\n",
        "\n",
        "    # Calculate win percentage for teams that batted first in the given season\n",
        "    bat_first_win_percentage = (bat_first_wins / total_matches) * 100\n",
        "\n",
        "    # Return True if more than 50% of teams that batted first won\n",
        "    return bat_first_win_percentage > 50\n",
        "\n",
        "\n",
        "\n"
      ],
      "metadata": {
        "id": "RmWUbpHaRqsT"
      },
      "execution_count": 15,
      "outputs": []
    },
    {
      "cell_type": "code",
      "source": [
        "# Sample Execution\n",
        "print(bat_and_win_overall())  # Check for all seasons\n",
        "print(bat_and_win(\"2024\"))  # Check for the 2024 season"
      ],
      "metadata": {
        "colab": {
          "base_uri": "https://localhost:8080/"
        },
        "id": "wfKkWGYNRuJa",
        "outputId": "3248d9a4-dbf7-4802-eeae-5ee16e502584"
      },
      "execution_count": 16,
      "outputs": [
        {
          "output_type": "stream",
          "name": "stdout",
          "text": [
            "False\n",
            "True\n"
          ]
        }
      ]
    },
    {
      "cell_type": "code",
      "source": [
        "print(bat_and_win(\"2009\"))  # Check for the 2009 season\n"
      ],
      "metadata": {
        "colab": {
          "base_uri": "https://localhost:8080/"
        },
        "id": "a7XIg-41Rw6E",
        "outputId": "95ad938f-1806-46dc-f6e9-f7f69a2f919c"
      },
      "execution_count": 17,
      "outputs": [
        {
          "output_type": "stream",
          "name": "stdout",
          "text": [
            "False\n"
          ]
        }
      ]
    },
    {
      "cell_type": "code",
      "source": [],
      "metadata": {
        "id": "furdG-_nSeYT"
      },
      "execution_count": null,
      "outputs": []
    },
    {
      "cell_type": "code",
      "source": [
        "# Ask user for a year input\n",
        "year_input = input(\"Please enter a year (e.g., 2024): \")\n",
        "\n",
        "# Convert the input to string (not strictly necessary since input() returns a string)\n",
        "year_string = str(year_input)\n",
        "\n",
        "# Find the result for the specified year\n",
        "result = bat_and_win(year_string)\n",
        "\n",
        "# Print the result\n",
        "if result:\n",
        "    print(f\"True\")\n",
        "else:\n",
        "    print(f\"False\")\n"
      ],
      "metadata": {
        "colab": {
          "base_uri": "https://localhost:8080/"
        },
        "outputId": "12d139fe-a047-41e1-e9a1-61c17ca6d849",
        "id": "zH07WQZvSfH8"
      },
      "execution_count": 20,
      "outputs": [
        {
          "output_type": "stream",
          "name": "stdout",
          "text": [
            "Please enter a year (e.g., 2024): 2009\n",
            "False\n"
          ]
        }
      ]
    }
  ]
}